{
 "cells": [
  {
   "cell_type": "code",
   "execution_count": 99,
   "metadata": {},
   "outputs": [],
   "source": [
    "import pandas as pd\n",
    "import numpy as np\n",
    "\n",
    "# plotting\n",
    "import matplotlib.pyplot as plt\n",
    "import seaborn as sns\n",
    "from pandas.plotting import autocorrelation_plot\n",
    "sns.set_style(\"dark\")\n",
    "\n",
    "# Data preprocessing\n",
    "from sklearn.preprocessing import MinMaxScaler, StandardScaler\n",
    "from pandas_datareader.data import DataReader\n",
    "import datetime as dt\n",
    "\n",
    "# libraries for pipeline|\n",
    "from sklearn.preprocessing import FunctionTransformer, OneHotEncoder, StandardScaler, MinMaxScaler, RobustScaler, MaxAbsScaler\n",
    "from sklearn.feature_selection import SelectKBest, f_regression\n",
    "from sklearn.compose import ColumnTransformer\n",
    "from sklearn.pipeline import Pipeline, FeatureUnion\n",
    "from sklearn.impute import SimpleImputer, KNNImputer\n",
    "from sklearn.decomposition import PCA\n",
    "\n",
    "# Gridsearch\n",
    "from sklearn.model_selection import TimeSeriesSplit, GridSearchCV, cross_val_score\n",
    "\n",
    "#metrics\n",
    "import sklearn.metrics as metrics\n",
    "\n",
    "# Models to try\n",
    "from sklearn.linear_model import LinearRegression, SGDRegressor, Ridge\n",
    "from sklearn.neural_network import MLPRegressor\n",
    "from sklearn.neighbors import KNeighborsRegressor\n",
    "from sklearn.ensemble import RandomForestRegressor\n",
    "from sklearn.svm import SVR\n",
    "import xgboost as xgb\n",
    "\n",
    "# custom functions\n",
    "from modules import functions"
   ]
  },
  {
   "cell_type": "markdown",
   "metadata": {},
   "source": [
    "# Market Data Gathering"
   ]
  },
  {
   "cell_type": "code",
   "execution_count": 100,
   "metadata": {},
   "outputs": [],
   "source": [
    "# Important dates\n",
    "start = dt.datetime(2022,7,23)\n",
    "end = dt.datetime(2022,8,14)\n"
   ]
  },
  {
   "cell_type": "code",
   "execution_count": 101,
   "metadata": {},
   "outputs": [],
   "source": [
    "# import data\n",
    "nflx = DataReader(\"NFLX\",  \"yahoo\", start, end)\n",
    "gspc = DataReader(\"^GSPC\", \"yahoo\", start, end)"
   ]
  },
  {
   "cell_type": "code",
   "execution_count": 102,
   "metadata": {},
   "outputs": [],
   "source": [
    "# # concatenate stock and market data\n",
    "features = functions.concatRename(nflx, 'nflx_', pd.DataFrame(gspc['Adj Close']), 'gspc_')"
   ]
  },
  {
   "cell_type": "markdown",
   "metadata": {},
   "source": [
    "# Set-up time series prediction\n",
    "\n",
    "Pipelines does not support dropping rows in the target data, so we must pre-process here. We take the features from the previous n days and use them to predict "
   ]
  },
  {
   "cell_type": "code",
   "execution_count": 103,
   "metadata": {},
   "outputs": [],
   "source": [
    "# target variable name\n",
    "nflx_target = 'nflx_Adj Close'\n",
    "\n",
    "# we do not drop the target variable, as we'll be shifting it\n",
    "X = features\n",
    "y = features[nflx_target]"
   ]
  },
  {
   "cell_type": "code",
   "execution_count": 104,
   "metadata": {},
   "outputs": [],
   "source": [
    "# shift features and drop nans\n",
    "rolling = 1\n",
    "X_shifted = functions.shiftTime(X, rolling)\n",
    "\n",
    "# find diff and drop nans\n",
    "diff_delta = 1\n",
    "X_diff = functions.trendDiff(X_shifted[[nflx_target]],diff_delta)\n",
    "\n",
    "# put together\n",
    "X_shifted = functions.concatRename(X_shifted, '', X_diff, 'diff_')\n",
    "X_shifted.dropna(how='any', inplace=True)\n",
    "\n",
    "# drop rolling rows from y\n",
    "y_shifted = y.iloc[rolling+1:]"
   ]
  },
  {
   "cell_type": "code",
   "execution_count": 105,
   "metadata": {},
   "outputs": [],
   "source": [
    "# take the last % for validation\n",
    "test_size = 0.3\n",
    "\n",
    "X_train, X_test = functions.testSplit(X_shifted, test_size)\n",
    "y_train, y_test = functions.testSplit(y_shifted, test_size)"
   ]
  },
  {
   "cell_type": "markdown",
   "metadata": {},
   "source": [
    "# Pipeline"
   ]
  },
  {
   "cell_type": "code",
   "execution_count": 106,
   "metadata": {},
   "outputs": [],
   "source": [
    "# # specify feats for column transformer, those not included will be dropped\n",
    "# num_feats = X_train.columns\n",
    "\n",
    "# # only differenced columns\n",
    "# num_feats = [feat for feat in X_train.columns if 'diff' in feat]\n",
    "\n",
    "# Just important features\n",
    "num_feats = X_shifted.columns"
   ]
  },
  {
   "cell_type": "code",
   "execution_count": 107,
   "metadata": {},
   "outputs": [],
   "source": [
    "# Feature Engineering Pipelines\n",
    "\n",
    "num_transform = Pipeline([\n",
    "    ('Imputer', KNNImputer()),\n",
    "    # ('scaling', StandardScaler()),\n",
    "    # ('PCA', PCA(n_components=2))\n",
    "    ])"
   ]
  },
  {
   "cell_type": "code",
   "execution_count": 108,
   "metadata": {},
   "outputs": [],
   "source": [
    "feature_engineering = ColumnTransformer([\n",
    "    ('num_transform', num_transform, num_feats),\n",
    "    ], remainder='drop')"
   ]
  },
  {
   "cell_type": "code",
   "execution_count": 109,
   "metadata": {},
   "outputs": [],
   "source": [
    "pipeline = Pipeline([\n",
    "    ('feature_engineering', feature_engineering),\n",
    "    ('regressor', LinearRegression()),\n",
    "    ])"
   ]
  },
  {
   "cell_type": "code",
   "execution_count": 110,
   "metadata": {},
   "outputs": [
    {
     "name": "stdout",
     "output_type": "stream",
     "text": [
      "# train pred\n",
      "explained_variance:  0.1244\n",
      "mean_squared_log_error:  0.0002\n",
      "r2:  0.1244\n",
      "MAE:  2.3289\n",
      "MSE:  8.4134\n",
      "RMSE:  2.9006\n",
      "# test pred\n",
      "explained_variance:  -0.8717\n",
      "mean_squared_log_error:  0.0034\n",
      "r2:  -22.8484\n",
      "MAE:  13.304\n",
      "MSE:  192.0707\n",
      "RMSE:  13.859\n"
     ]
    }
   ],
   "source": [
    "# calculate baseline score\n",
    "model = pipeline.fit(X_train, y_train)\n",
    "\n",
    "# calculate optimized score\n",
    "print('# train pred')\n",
    "y_train_pred = model.predict(X_train)\n",
    "functions.regression_results(y_train, y_train_pred)\n",
    "\n",
    "print('# test pred')\n",
    "y_test_pred = model.predict(X_test)\n",
    "functions.regression_results(y_test, y_test_pred)"
   ]
  },
  {
   "cell_type": "code",
   "execution_count": 111,
   "metadata": {},
   "outputs": [
    {
     "data": {
      "text/plain": [
       "<AxesSubplot:xlabel='Date'>"
      ]
     },
     "execution_count": 111,
     "metadata": {},
     "output_type": "execute_result"
    },
    {
     "data": {
      "image/png": "[encoded data removed]",
      "text/plain": [
       "<Figure size 432x288 with 1 Axes>"
      ]
     },
     "metadata": {},
     "output_type": "display_data"
    }
   ],
   "source": [
    "# plot predictions\n",
    "pred_df = pd.concat([y_test, pd.Series(y_test_pred, index=y_test.index)], axis=1)\n",
    "sns.lineplot(data=pred_df)"
   ]
  },
  {
   "cell_type": "markdown",
   "metadata": {},
   "source": [
    "# Optimization"
   ]
  },
  {
   "cell_type": "code",
   "execution_count": 112,
   "metadata": {},
   "outputs": [],
   "source": [
    "# model params\n",
    "model_params = {\n",
    "    'regressor': [\n",
    "                LinearRegression(), \n",
    "                # MLPRegressor(solver='lbfgs'),\n",
    "                KNeighborsRegressor(),\n",
    "                RandomForestRegressor(n_estimators=10),\n",
    "                SVR(gamma='auto'),\n",
    "                xgb.XGBRegressor(),\n",
    "                ]\n",
    "}"
   ]
  },
  {
   "cell_type": "code",
   "execution_count": 113,
   "metadata": {},
   "outputs": [],
   "source": [
    "# XGBoost params\n",
    "xgb_params = {\n",
    "    'regressor': [xgb.XGBRegressor()],\n",
    "    # 'feature_engineering__num_transform_scaling': [MinMaxScaler(), StandardScaler()],\n",
    "    'regressor__booster': ['gblinear'],\n",
    "    'regressor__lambda': [0, 0.5, 1],\n",
    "    'regressor__alpha': [0, 0.5 , 1],\n",
    "}"
   ]
  },
  {
   "cell_type": "code",
   "execution_count": 114,
   "metadata": {},
   "outputs": [],
   "source": [
    "# make custome scorer\n",
    "rmse_score = metrics.make_scorer(functions.rmse, greater_is_better=False)"
   ]
  },
  {
   "cell_type": "code",
   "execution_count": 115,
   "metadata": {},
   "outputs": [],
   "source": [
    "# instantiate gridsearch and time series CV technique\n",
    "gridsearch = GridSearchCV(estimator=pipeline, param_grid=xgb_params, cv=TimeSeriesSplit(n_splits=3), scoring=rmse_score)"
   ]
  },
  {
   "cell_type": "code",
   "execution_count": 116,
   "metadata": {},
   "outputs": [],
   "source": [
    "# find best model\n",
    "gridsearch.fit(X_train, y_train)\n",
    "best_model = gridsearch.best_estimator_\n",
    "best_score = gridsearch.best_score_"
   ]
  },
  {
   "cell_type": "code",
   "execution_count": 117,
   "metadata": {},
   "outputs": [
    {
     "name": "stdout",
     "output_type": "stream",
     "text": [
      "# train pred\n",
      "explained_variance:  -0.0871\n",
      "mean_squared_log_error:  0.0002\n",
      "r2:  -0.0874\n",
      "MAE:  2.7812\n",
      "MSE:  10.4481\n",
      "RMSE:  3.2323\n",
      "# test pred\n",
      "explained_variance:  0.5036\n",
      "mean_squared_log_error:  0.0022\n",
      "r2:  -14.9737\n",
      "MAE:  11.1647\n",
      "MSE:  128.6489\n",
      "RMSE:  11.3423\n"
     ]
    }
   ],
   "source": [
    "# calculate optimized score\n",
    "print('# train pred')\n",
    "y_train_pred = best_model.predict(X_train)\n",
    "functions.regression_results(y_train, y_train_pred)\n",
    "\n",
    "print('# test pred')\n",
    "y_test_pred = best_model.predict(X_test)\n",
    "functions.regression_results(y_test, y_test_pred)"
   ]
  },
  {
   "cell_type": "code",
   "execution_count": 118,
   "metadata": {},
   "outputs": [
    {
     "data": {
      "text/plain": [
       "<AxesSubplot:xlabel='Date'>"
      ]
     },
     "execution_count": 118,
     "metadata": {},
     "output_type": "execute_result"
    },
    {
     "data": {
      "image/png": "[encoded data removed]",
      "text/plain": [
       "<Figure size 432x288 with 1 Axes>"
      ]
     },
     "metadata": {},
     "output_type": "display_data"
    }
   ],
   "source": [
    "# plot training predictions\n",
    "y_train_pred_df = pd.concat([y_train, pd.Series(y_train_pred, index=y_train.index)], axis=1)\n",
    "sns.lineplot(data=y_train_pred_df)"
   ]
  },
  {
   "cell_type": "code",
   "execution_count": 119,
   "metadata": {},
   "outputs": [
    {
     "data": {
      "text/plain": [
       "<AxesSubplot:xlabel='Date'>"
      ]
     },
     "execution_count": 119,
     "metadata": {},
     "output_type": "execute_result"
    },
    {
     "data": {
      "image/png": "[encoded data removed]",
      "text/plain": [
       "<Figure size 432x288 with 1 Axes>"
      ]
     },
     "metadata": {},
     "output_type": "display_data"
    }
   ],
   "source": [
    "# plot predictions\n",
    "y_test_pred_df = pd.concat([y_test, pd.Series(y_test_pred, index=y_test.index)], axis=1)\n",
    "sns.lineplot(data=y_test_pred_df)"
   ]
  },
  {
   "cell_type": "code",
   "execution_count": null,
   "metadata": {},
   "outputs": [],
   "source": []
  }
 ],
 "metadata": {
  "kernelspec": {
   "display_name": "Python 3.9.7 ('base')",
   "language": "python",
   "name": "python3"
  },
  "language_info": {
   "codemirror_mode": {
    "name": "ipython",
    "version": 3
   },
   "file_extension": ".py",
   "mimetype": "text/x-python",
   "name": "python",
   "nbconvert_exporter": "python",
   "pygments_lexer": "ipython3",
   "version": "3.9.7"
  },
  "orig_nbformat": 4,
  "vscode": {
   "interpreter": {
    "hash": "48f1e5342cf8a6c153dbe25f8f15edc1b1c2836d33c4cf2b2335313fcb64d162"
   }
  }
 },
 "nbformat": 4,
 "nbformat_minor": 2
}
