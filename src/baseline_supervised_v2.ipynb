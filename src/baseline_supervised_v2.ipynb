{
 "cells": [
  {
   "cell_type": "code",
   "execution_count": 1,
   "metadata": {},
   "outputs": [],
   "source": [
    "import pandas as pd\n",
    "import numpy as np\n",
    "\n",
    "# plotting\n",
    "import matplotlib.pyplot as plt\n",
    "import seaborn as sns\n",
    "from pandas.plotting import autocorrelation_plot\n",
    "sns.set_style(\"dark\")\n",
    "\n",
    "# Data preprocessing\n",
    "from sklearn.preprocessing import MinMaxScaler, StandardScaler\n",
    "from pandas_datareader.data import DataReader\n",
    "import datetime as dt\n",
    "\n",
    "# libraries for pipeline|\n",
    "from sklearn.preprocessing import FunctionTransformer, OneHotEncoder, StandardScaler, MinMaxScaler, RobustScaler, MaxAbsScaler\n",
    "from sklearn.feature_selection import SelectKBest, f_regression\n",
    "from sklearn.compose import ColumnTransformer\n",
    "from sklearn.pipeline import Pipeline, FeatureUnion\n",
    "from sklearn.impute import SimpleImputer, KNNImputer\n",
    "from sklearn.decomposition import PCA\n",
    "\n",
    "\n",
    "#metrics\n",
    "import sklearn.metrics as metrics\n",
    "\n",
    "# Models to try\n",
    "from sklearn.linear_model import LinearRegression, SGDRegressor, Ridge\n",
    "from sklearn.ensemble import RandomForestRegressor\n",
    "from sklearn.svm import SVC\n",
    "\n",
    "# custom functions\n",
    "from modules import functions"
   ]
  },
  {
   "cell_type": "markdown",
   "metadata": {},
   "source": [
    "# Market Data Gathering"
   ]
  },
  {
   "cell_type": "code",
   "execution_count": 2,
   "metadata": {},
   "outputs": [],
   "source": [
    "# Important dates\n",
    "start = dt.datetime(2021,8,14)\n",
    "end = dt.datetime(2022,8,14)\n"
   ]
  },
  {
   "cell_type": "code",
   "execution_count": 3,
   "metadata": {},
   "outputs": [],
   "source": [
    "# import data\n",
    "nflx = DataReader(\"NFLX\",  \"yahoo\", start, end)\n",
    "gspc = DataReader(\"^GSPC\", \"yahoo\", start, end)"
   ]
  },
  {
   "cell_type": "code",
   "execution_count": 4,
   "metadata": {},
   "outputs": [],
   "source": [
    "# concatenate stock and market data\n",
    "features = functions.concatRename(nflx, 'nflx_', gspc, 'gspc_')"
   ]
  },
  {
   "cell_type": "markdown",
   "metadata": {},
   "source": [
    "# Set-up time series prediction\n",
    "\n",
    "Pipelines does not support dropping rows in the target data, so we must pre-process here. We take the features from the previous n days and use them to predict "
   ]
  },
  {
   "cell_type": "code",
   "execution_count": 5,
   "metadata": {},
   "outputs": [],
   "source": [
    "# target variable name\n",
    "nflx_target = 'nflx_Adj Close'\n",
    "\n",
    "# we do not drop the target variable, as we'll be shifting it\n",
    "X = features\n",
    "y = features[nflx_target]"
   ]
  },
  {
   "cell_type": "code",
   "execution_count": 6,
   "metadata": {},
   "outputs": [],
   "source": [
    "# shift features and drop nans\n",
    "rolling = 1\n",
    "X_shifted = functions.shiftTime(X, rolling)\n",
    "\n",
    "# find diff and drop nans\n",
    "diff_delta = 1\n",
    "X_diff = functions.trendDiff(X_shifted,diff_delta)\n",
    "\n",
    "# put together\n",
    "X_shifted = functions.concatRename(X_shifted, '', X_diff, 'diff_')\n",
    "X_shifted.dropna(how='any', inplace=True)\n",
    "\n",
    "# drop rolling rows from y\n",
    "y_shifted = y.iloc[rolling+diff_delta:]"
   ]
  },
  {
   "cell_type": "code",
   "execution_count": 7,
   "metadata": {},
   "outputs": [],
   "source": [
    "# take the last 0.20% for validation\n",
    "X_train, X_test = functions.testSplit(X_shifted)\n",
    "y_train, y_test = functions.testSplit(y_shifted)"
   ]
  },
  {
   "cell_type": "code",
   "execution_count": 8,
   "metadata": {},
   "outputs": [],
   "source": [
    "# specify feats for column transformer, those not included will be dropped\n",
    "num_feats = ['nflx_Adj Close', 'diff_nflx_Adj Close']"
   ]
  },
  {
   "cell_type": "markdown",
   "metadata": {},
   "source": [
    "# Pipeline"
   ]
  },
  {
   "cell_type": "code",
   "execution_count": 9,
   "metadata": {},
   "outputs": [],
   "source": [
    "# Feature Engineering Pipelines\n",
    "\n",
    "num_transform = Pipeline([\n",
    "    ('Imputer', KNNImputer()),\n",
    "    ('scaling', StandardScaler()),\n",
    "    ('select_best', SelectKBest(k=5)),\n",
    "    ])"
   ]
  },
  {
   "cell_type": "code",
   "execution_count": 10,
   "metadata": {},
   "outputs": [],
   "source": [
    "feature_engineering = ColumnTransformer([\n",
    "    ('num_transform', num_transform, num_feats),\n",
    "    ('scaling', StandardScaler()),\n",
    "    ], remainder='drop')# "
   ]
  },
  {
   "cell_type": "code",
   "execution_count": 11,
   "metadata": {},
   "outputs": [],
   "source": [
    "# feature_engineering = "
   ]
  },
  {
   "cell_type": "code",
   "execution_count": 12,
   "metadata": {},
   "outputs": [],
   "source": [
    "pipeline = Pipeline([\n",
    "    \n",
    "    ('scaling', StandardScaler()),\n",
    "    ('classifier', LinearRegression()),\n",
    "    ])"
   ]
  },
  {
   "cell_type": "code",
   "execution_count": 13,
   "metadata": {},
   "outputs": [],
   "source": [
    "model = pipeline.fit(X_train, y_train)"
   ]
  },
  {
   "cell_type": "code",
   "execution_count": 14,
   "metadata": {},
   "outputs": [],
   "source": [
    "y_pred = model.predict(X_test)"
   ]
  },
  {
   "cell_type": "code",
   "execution_count": 15,
   "metadata": {},
   "outputs": [
    {
     "name": "stdout",
     "output_type": "stream",
     "text": [
      "explained_variance:  0.8384\n",
      "mean_squared_log_error:  0.0026\n",
      "r2:  0.8131\n",
      "MAE:  8.3468\n",
      "MSE:  101.3905\n",
      "RMSE:  10.0693\n"
     ]
    }
   ],
   "source": [
    "functions.regression_results(y_test, y_pred)"
   ]
  },
  {
   "cell_type": "code",
   "execution_count": 19,
   "metadata": {},
   "outputs": [
    {
     "data": {
      "text/plain": [
       "<AxesSubplot:xlabel='Date'>"
      ]
     },
     "execution_count": 19,
     "metadata": {},
     "output_type": "execute_result"
    },
    {
     "data": {
      "image/png": "[encoded data removed]",
      "text/plain": [
       "<Figure size 432x288 with 1 Axes>"
      ]
     },
     "metadata": {},
     "output_type": "display_data"
    }
   ],
   "source": [
    "# plot predictions\n",
    "pred_df = pd.concat([y_test, pd.Series(y_pred, index=y_test.index)], axis=1)\n",
    "sns.lineplot(data=pred_df)"
   ]
  },
  {
   "cell_type": "code",
   "execution_count": null,
   "metadata": {},
   "outputs": [],
   "source": []
  }
 ],
 "metadata": {
  "kernelspec": {
   "display_name": "Python 3.9.7 ('base')",
   "language": "python",
   "name": "python3"
  },
  "language_info": {
   "codemirror_mode": {
    "name": "ipython",
    "version": 3
   },
   "file_extension": ".py",
   "mimetype": "text/x-python",
   "name": "python",
   "nbconvert_exporter": "python",
   "pygments_lexer": "ipython3",
   "version": "3.9.7"
  },
  "orig_nbformat": 4,
  "vscode": {
   "interpreter": {
    "hash": "48f1e5342cf8a6c153dbe25f8f15edc1b1c2836d33c4cf2b2335313fcb64d162"
   }
  }
 },
 "nbformat": 4,
 "nbformat_minor": 2
}
