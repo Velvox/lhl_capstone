{
 "cells": [
  {
   "cell_type": "code",
   "execution_count": 1,
   "metadata": {},
   "outputs": [],
   "source": [
    "import pandas as pd\n",
    "import numpy as np\n",
    "\n",
    "# plotting\n",
    "import matplotlib.pyplot as plt\n",
    "import seaborn as sns\n",
    "from pandas.plotting import autocorrelation_plot\n",
    "sns.set_style(\"dark\")\n",
    "\n",
    "# Data preprocessing\n",
    "from sklearn.preprocessing import MinMaxScaler, StandardScaler\n",
    "from pandas_datareader.data import DataReader\n",
    "import datetime as dt\n",
    "\n",
    "# libraries for pipeline|\n",
    "from sklearn.preprocessing import FunctionTransformer, OneHotEncoder, StandardScaler, MinMaxScaler, RobustScaler, MaxAbsScaler\n",
    "from sklearn.feature_selection import SelectKBest, f_regression\n",
    "from sklearn.compose import ColumnTransformer\n",
    "from sklearn.pipeline import Pipeline, FeatureUnion\n",
    "from sklearn.impute import SimpleImputer, KNNImputer\n",
    "from sklearn.decomposition import PCA\n",
    "\n",
    "\n",
    "#metrics\n",
    "from sklearn.metrics import mean_squared_error\n",
    "\n",
    "# Models to try\n",
    "from sklearn.linear_model import LinearRegression, SGDRegressor, Ridge\n",
    "from sklearn.ensemble import RandomForestRegressor\n",
    "from sklearn.svm import SVC\n",
    "\n",
    "# custom functions\n",
    "from modules import functions"
   ]
  },
  {
   "cell_type": "markdown",
   "metadata": {},
   "source": [
    "# Market Data Gathering"
   ]
  },
  {
   "cell_type": "code",
   "execution_count": 66,
   "metadata": {},
   "outputs": [],
   "source": [
    "# Important dates\n",
    "start = dt.datetime(2022,7,23)\n",
    "end = dt.datetime(2022,8,14)\n"
   ]
  },
  {
   "cell_type": "code",
   "execution_count": 67,
   "metadata": {},
   "outputs": [],
   "source": [
    "# import data\n",
    "nflx = DataReader(\"NFLX\",  \"yahoo\", start, end)\n",
    "gspc = DataReader(\"^GSPC\", \"yahoo\", start, end)\n",
    "\n",
    "# sentiment data\n",
    "tweet_sentiment = pd.read_csv('data/tweets/classified/tweets_mean_sentiment.csv', index_col=0)\n",
    "news_sentiment = pd.read_csv('data/news/classified/news_mean_sentiment.csv', index_col=0)\n",
    "\n",
    "# turn dates to datetime\n",
    "tweet_sentiment.index = pd.to_datetime(tweet_sentiment.index)\n",
    "news_sentiment.index = pd.to_datetime(news_sentiment.index)\n",
    "\n",
    "# remove weekends, for now\n",
    "tweet_sentiment = tweet_sentiment[tweet_sentiment.index.dayofweek < 5]\n",
    "news_sentiment = news_sentiment[news_sentiment.index.dayofweek < 5]\n",
    "\n",
    "# # cut data from sentiment to start and end dates\n",
    "tweet_sentiment = tweet_sentiment[start:end]\n",
    "news_sentiment = news_sentiment[start:end]"
   ]
  },
  {
   "cell_type": "code",
   "execution_count": 68,
   "metadata": {},
   "outputs": [],
   "source": [
    "# concatenate stock and market data\n",
    "features = functions.concatRename(nflx, 'nflx_', gspc, 'gspc_')\n",
    "\n",
    "# add sentiment features\n",
    "merged_features = pd.concat([features, news_sentiment['news_daily_sentiment'], tweet_sentiment['tweet_sentiment_pred']], join='outer', axis=1)"
   ]
  },
  {
   "cell_type": "markdown",
   "metadata": {},
   "source": [
    "# Set-up time series prediction\n",
    "\n",
    "Pipelines does not support dropping rows in the target data, so we must pre-process here. We take the features from the previous n days and use them to predict "
   ]
  },
  {
   "cell_type": "code",
   "execution_count": 79,
   "metadata": {},
   "outputs": [],
   "source": [
    "# target variable name\n",
    "nflx_target = 'nflx_Adj Close'\n",
    "\n",
    "# we do not drop the target variable, as we'll be shifting it\n",
    "X = merged_features\n",
    "y = merged_features[nflx_target]"
   ]
  },
  {
   "cell_type": "code",
   "execution_count": 80,
   "metadata": {},
   "outputs": [],
   "source": [
    "# shift features and drop nans\n",
    "rolling = 1\n",
    "X_shifted = functions.shiftTime(X, rolling)\n",
    "X_shifted.dropna(how='all', inplace=True)\n",
    "\n",
    "# drop rolling rows from y\n",
    "y_shifted = y.iloc[rolling:]"
   ]
  },
  {
   "cell_type": "code",
   "execution_count": 81,
   "metadata": {},
   "outputs": [],
   "source": [
    "# take the last 0.20% for validation\n",
    "X_train, X_test = functions.testSplit(X)\n",
    "y_train, y_test = functions.testSplit(y)"
   ]
  },
  {
   "cell_type": "code",
   "execution_count": 82,
   "metadata": {},
   "outputs": [],
   "source": [
    "# specify feats for column transformer, those not included will be dropped\n",
    "num_feats = ['nflx_Adj Close', 'nflx_High', 'nflx_Low', 'nflx_Volume', 'gspc_Adj Close', 'tweet_sentiment_pred']\n",
    "cat_feats = ['news_daily_sentiment']"
   ]
  },
  {
   "cell_type": "code",
   "execution_count": 78,
   "metadata": {},
   "outputs": [
    {
     "data": {
      "text/html": [
       "<div>\n",
       "<style scoped>\n",
       "    .dataframe tbody tr th:only-of-type {\n",
       "        vertical-align: middle;\n",
       "    }\n",
       "\n",
       "    .dataframe tbody tr th {\n",
       "        vertical-align: top;\n",
       "    }\n",
       "\n",
       "    .dataframe thead th {\n",
       "        text-align: right;\n",
       "    }\n",
       "</style>\n",
       "<table border=\"1\" class=\"dataframe\">\n",
       "  <thead>\n",
       "    <tr style=\"text-align: right;\">\n",
       "      <th></th>\n",
       "      <th>nflx_High</th>\n",
       "      <th>nflx_Low</th>\n",
       "      <th>nflx_Open</th>\n",
       "      <th>nflx_Close</th>\n",
       "      <th>nflx_Volume</th>\n",
       "      <th>nflx_Adj Close</th>\n",
       "      <th>gspc_High</th>\n",
       "      <th>gspc_Low</th>\n",
       "      <th>gspc_Open</th>\n",
       "      <th>gspc_Close</th>\n",
       "      <th>gspc_Volume</th>\n",
       "      <th>gspc_Adj Close</th>\n",
       "    </tr>\n",
       "    <tr>\n",
       "      <th>Date</th>\n",
       "      <th></th>\n",
       "      <th></th>\n",
       "      <th></th>\n",
       "      <th></th>\n",
       "      <th></th>\n",
       "      <th></th>\n",
       "      <th></th>\n",
       "      <th></th>\n",
       "      <th></th>\n",
       "      <th></th>\n",
       "      <th></th>\n",
       "      <th></th>\n",
       "    </tr>\n",
       "  </thead>\n",
       "  <tbody>\n",
       "    <tr>\n",
       "      <th>2022-07-25</th>\n",
       "      <td>225.229996</td>\n",
       "      <td>216.350006</td>\n",
       "      <td>221.309998</td>\n",
       "      <td>218.509995</td>\n",
       "      <td>10935200</td>\n",
       "      <td>218.509995</td>\n",
       "      <td>3975.300049</td>\n",
       "      <td>3943.459961</td>\n",
       "      <td>3965.719971</td>\n",
       "      <td>3966.840088</td>\n",
       "      <td>2988650000</td>\n",
       "      <td>3966.840088</td>\n",
       "    </tr>\n",
       "    <tr>\n",
       "      <th>2022-07-26</th>\n",
       "      <td>219.389999</td>\n",
       "      <td>211.639999</td>\n",
       "      <td>216.660004</td>\n",
       "      <td>213.910004</td>\n",
       "      <td>9508500</td>\n",
       "      <td>213.910004</td>\n",
       "      <td>3953.219971</td>\n",
       "      <td>3910.739990</td>\n",
       "      <td>3953.219971</td>\n",
       "      <td>3921.050049</td>\n",
       "      <td>3083420000</td>\n",
       "      <td>3921.050049</td>\n",
       "    </tr>\n",
       "    <tr>\n",
       "      <th>2022-07-27</th>\n",
       "      <td>227.779999</td>\n",
       "      <td>214.580002</td>\n",
       "      <td>216.479996</td>\n",
       "      <td>226.750000</td>\n",
       "      <td>10508400</td>\n",
       "      <td>226.750000</td>\n",
       "      <td>4039.560059</td>\n",
       "      <td>3951.429932</td>\n",
       "      <td>3951.429932</td>\n",
       "      <td>4023.610107</td>\n",
       "      <td>3584170000</td>\n",
       "      <td>4023.610107</td>\n",
       "    </tr>\n",
       "    <tr>\n",
       "      <th>2022-07-28</th>\n",
       "      <td>228.100006</td>\n",
       "      <td>219.669998</td>\n",
       "      <td>224.600006</td>\n",
       "      <td>226.020004</td>\n",
       "      <td>8972700</td>\n",
       "      <td>226.020004</td>\n",
       "      <td>4078.949951</td>\n",
       "      <td>3992.969971</td>\n",
       "      <td>4026.129883</td>\n",
       "      <td>4072.429932</td>\n",
       "      <td>3882850000</td>\n",
       "      <td>4072.429932</td>\n",
       "    </tr>\n",
       "    <tr>\n",
       "      <th>2022-07-29</th>\n",
       "      <td>230.750000</td>\n",
       "      <td>222.399994</td>\n",
       "      <td>223.289993</td>\n",
       "      <td>224.899994</td>\n",
       "      <td>9060500</td>\n",
       "      <td>224.899994</td>\n",
       "      <td>4140.149902</td>\n",
       "      <td>4079.219971</td>\n",
       "      <td>4087.330078</td>\n",
       "      <td>4130.290039</td>\n",
       "      <td>3817740000</td>\n",
       "      <td>4130.290039</td>\n",
       "    </tr>\n",
       "    <tr>\n",
       "      <th>2022-08-01</th>\n",
       "      <td>228.389999</td>\n",
       "      <td>221.000000</td>\n",
       "      <td>223.100006</td>\n",
       "      <td>226.210007</td>\n",
       "      <td>5525000</td>\n",
       "      <td>226.210007</td>\n",
       "      <td>4144.950195</td>\n",
       "      <td>4096.020020</td>\n",
       "      <td>4112.379883</td>\n",
       "      <td>4118.629883</td>\n",
       "      <td>3540960000</td>\n",
       "      <td>4118.629883</td>\n",
       "    </tr>\n",
       "    <tr>\n",
       "      <th>2022-08-02</th>\n",
       "      <td>228.199997</td>\n",
       "      <td>220.880005</td>\n",
       "      <td>222.759995</td>\n",
       "      <td>221.419998</td>\n",
       "      <td>6361300</td>\n",
       "      <td>221.419998</td>\n",
       "      <td>4140.470215</td>\n",
       "      <td>4079.810059</td>\n",
       "      <td>4104.209961</td>\n",
       "      <td>4091.189941</td>\n",
       "      <td>3880790000</td>\n",
       "      <td>4091.189941</td>\n",
       "    </tr>\n",
       "    <tr>\n",
       "      <th>2022-08-03</th>\n",
       "      <td>228.100006</td>\n",
       "      <td>222.419998</td>\n",
       "      <td>224.789993</td>\n",
       "      <td>226.729996</td>\n",
       "      <td>6400700</td>\n",
       "      <td>226.729996</td>\n",
       "      <td>4167.660156</td>\n",
       "      <td>4107.959961</td>\n",
       "      <td>4107.959961</td>\n",
       "      <td>4155.169922</td>\n",
       "      <td>3544410000</td>\n",
       "      <td>4155.169922</td>\n",
       "    </tr>\n",
       "    <tr>\n",
       "      <th>2022-08-04</th>\n",
       "      <td>232.070007</td>\n",
       "      <td>225.050003</td>\n",
       "      <td>227.679993</td>\n",
       "      <td>229.910004</td>\n",
       "      <td>7142700</td>\n",
       "      <td>229.910004</td>\n",
       "      <td>4161.290039</td>\n",
       "      <td>4135.419922</td>\n",
       "      <td>4154.850098</td>\n",
       "      <td>4151.939941</td>\n",
       "      <td>3565810000</td>\n",
       "      <td>4151.939941</td>\n",
       "    </tr>\n",
       "    <tr>\n",
       "      <th>2022-08-05</th>\n",
       "      <td>228.619995</td>\n",
       "      <td>222.869995</td>\n",
       "      <td>225.300003</td>\n",
       "      <td>226.779999</td>\n",
       "      <td>5533200</td>\n",
       "      <td>226.779999</td>\n",
       "      <td>4151.580078</td>\n",
       "      <td>4107.310059</td>\n",
       "      <td>4115.870117</td>\n",
       "      <td>4145.189941</td>\n",
       "      <td>3540260000</td>\n",
       "      <td>4145.189941</td>\n",
       "    </tr>\n",
       "    <tr>\n",
       "      <th>2022-08-08</th>\n",
       "      <td>241.960007</td>\n",
       "      <td>226.410004</td>\n",
       "      <td>227.490005</td>\n",
       "      <td>233.490005</td>\n",
       "      <td>10982100</td>\n",
       "      <td>233.490005</td>\n",
       "      <td>4186.620117</td>\n",
       "      <td>4128.970215</td>\n",
       "      <td>4155.930176</td>\n",
       "      <td>4140.060059</td>\n",
       "      <td>3604650000</td>\n",
       "      <td>4140.060059</td>\n",
       "    </tr>\n",
       "    <tr>\n",
       "      <th>2022-08-09</th>\n",
       "      <td>232.199997</td>\n",
       "      <td>224.649994</td>\n",
       "      <td>231.619995</td>\n",
       "      <td>229.940002</td>\n",
       "      <td>6181200</td>\n",
       "      <td>229.940002</td>\n",
       "      <td>4137.299805</td>\n",
       "      <td>4112.089844</td>\n",
       "      <td>4133.109863</td>\n",
       "      <td>4122.470215</td>\n",
       "      <td>3337150000</td>\n",
       "      <td>4122.470215</td>\n",
       "    </tr>\n",
       "    <tr>\n",
       "      <th>2022-08-10</th>\n",
       "      <td>244.539993</td>\n",
       "      <td>236.600006</td>\n",
       "      <td>236.990005</td>\n",
       "      <td>244.110001</td>\n",
       "      <td>9254800</td>\n",
       "      <td>244.110001</td>\n",
       "      <td>4211.029785</td>\n",
       "      <td>4177.259766</td>\n",
       "      <td>4181.020020</td>\n",
       "      <td>4210.240234</td>\n",
       "      <td>3998590000</td>\n",
       "      <td>4210.240234</td>\n",
       "    </tr>\n",
       "    <tr>\n",
       "      <th>2022-08-11</th>\n",
       "      <td>251.619995</td>\n",
       "      <td>241.509995</td>\n",
       "      <td>244.679993</td>\n",
       "      <td>242.699997</td>\n",
       "      <td>8780100</td>\n",
       "      <td>242.699997</td>\n",
       "      <td>4257.910156</td>\n",
       "      <td>4201.410156</td>\n",
       "      <td>4227.399902</td>\n",
       "      <td>4207.270020</td>\n",
       "      <td>3925060000</td>\n",
       "      <td>4207.270020</td>\n",
       "    </tr>\n",
       "    <tr>\n",
       "      <th>2022-08-12</th>\n",
       "      <td>249.410004</td>\n",
       "      <td>243.759995</td>\n",
       "      <td>244.809998</td>\n",
       "      <td>249.300003</td>\n",
       "      <td>6089900</td>\n",
       "      <td>249.300003</td>\n",
       "      <td>4280.470215</td>\n",
       "      <td>4219.779785</td>\n",
       "      <td>4225.020020</td>\n",
       "      <td>4280.149902</td>\n",
       "      <td>3252290000</td>\n",
       "      <td>4280.149902</td>\n",
       "    </tr>\n",
       "  </tbody>\n",
       "</table>\n",
       "</div>"
      ],
      "text/plain": [
       "             nflx_High    nflx_Low   nflx_Open  nflx_Close  nflx_Volume  \\\n",
       "Date                                                                      \n",
       "2022-07-25  225.229996  216.350006  221.309998  218.509995     10935200   \n",
       "2022-07-26  219.389999  211.639999  216.660004  213.910004      9508500   \n",
       "2022-07-27  227.779999  214.580002  216.479996  226.750000     10508400   \n",
       "2022-07-28  228.100006  219.669998  224.600006  226.020004      8972700   \n",
       "2022-07-29  230.750000  222.399994  223.289993  224.899994      9060500   \n",
       "2022-08-01  228.389999  221.000000  223.100006  226.210007      5525000   \n",
       "2022-08-02  228.199997  220.880005  222.759995  221.419998      6361300   \n",
       "2022-08-03  228.100006  222.419998  224.789993  226.729996      6400700   \n",
       "2022-08-04  232.070007  225.050003  227.679993  229.910004      7142700   \n",
       "2022-08-05  228.619995  222.869995  225.300003  226.779999      5533200   \n",
       "2022-08-08  241.960007  226.410004  227.490005  233.490005     10982100   \n",
       "2022-08-09  232.199997  224.649994  231.619995  229.940002      6181200   \n",
       "2022-08-10  244.539993  236.600006  236.990005  244.110001      9254800   \n",
       "2022-08-11  251.619995  241.509995  244.679993  242.699997      8780100   \n",
       "2022-08-12  249.410004  243.759995  244.809998  249.300003      6089900   \n",
       "\n",
       "            nflx_Adj Close    gspc_High     gspc_Low    gspc_Open  \\\n",
       "Date                                                                \n",
       "2022-07-25      218.509995  3975.300049  3943.459961  3965.719971   \n",
       "2022-07-26      213.910004  3953.219971  3910.739990  3953.219971   \n",
       "2022-07-27      226.750000  4039.560059  3951.429932  3951.429932   \n",
       "2022-07-28      226.020004  4078.949951  3992.969971  4026.129883   \n",
       "2022-07-29      224.899994  4140.149902  4079.219971  4087.330078   \n",
       "2022-08-01      226.210007  4144.950195  4096.020020  4112.379883   \n",
       "2022-08-02      221.419998  4140.470215  4079.810059  4104.209961   \n",
       "2022-08-03      226.729996  4167.660156  4107.959961  4107.959961   \n",
       "2022-08-04      229.910004  4161.290039  4135.419922  4154.850098   \n",
       "2022-08-05      226.779999  4151.580078  4107.310059  4115.870117   \n",
       "2022-08-08      233.490005  4186.620117  4128.970215  4155.930176   \n",
       "2022-08-09      229.940002  4137.299805  4112.089844  4133.109863   \n",
       "2022-08-10      244.110001  4211.029785  4177.259766  4181.020020   \n",
       "2022-08-11      242.699997  4257.910156  4201.410156  4227.399902   \n",
       "2022-08-12      249.300003  4280.470215  4219.779785  4225.020020   \n",
       "\n",
       "             gspc_Close  gspc_Volume  gspc_Adj Close  \n",
       "Date                                                  \n",
       "2022-07-25  3966.840088   2988650000     3966.840088  \n",
       "2022-07-26  3921.050049   3083420000     3921.050049  \n",
       "2022-07-27  4023.610107   3584170000     4023.610107  \n",
       "2022-07-28  4072.429932   3882850000     4072.429932  \n",
       "2022-07-29  4130.290039   3817740000     4130.290039  \n",
       "2022-08-01  4118.629883   3540960000     4118.629883  \n",
       "2022-08-02  4091.189941   3880790000     4091.189941  \n",
       "2022-08-03  4155.169922   3544410000     4155.169922  \n",
       "2022-08-04  4151.939941   3565810000     4151.939941  \n",
       "2022-08-05  4145.189941   3540260000     4145.189941  \n",
       "2022-08-08  4140.060059   3604650000     4140.060059  \n",
       "2022-08-09  4122.470215   3337150000     4122.470215  \n",
       "2022-08-10  4210.240234   3998590000     4210.240234  \n",
       "2022-08-11  4207.270020   3925060000     4207.270020  \n",
       "2022-08-12  4280.149902   3252290000     4280.149902  "
      ]
     },
     "execution_count": 78,
     "metadata": {},
     "output_type": "execute_result"
    }
   ],
   "source": [
    "features"
   ]
  },
  {
   "cell_type": "markdown",
   "metadata": {},
   "source": [
    "# Feature Engineering"
   ]
  },
  {
   "cell_type": "code",
   "execution_count": 83,
   "metadata": {},
   "outputs": [],
   "source": [
    "# Feature Engineering Pipelines\n",
    "\n",
    "num_transform = Pipeline([\n",
    "    ('Imputer', KNNImputer()),\n",
    "    ('scaling', StandardScaler()),\n",
    "    ('select_best', SelectKBest(k=5)),\n",
    "    ])\n",
    "\n",
    "cat_transform = Pipeline([\n",
    "    ('Imputer', SimpleImputer(strategy='constant', fill_value='neutral')),\n",
    "    ('one_hot', OneHotEncoder(sparse=False)),\n",
    "    # ('pca', PCA(n_components=3)),\n",
    "    ])"
   ]
  },
  {
   "cell_type": "code",
   "execution_count": 84,
   "metadata": {},
   "outputs": [],
   "source": [
    "preprocessing = ColumnTransformer([\n",
    "    ('num_transform', num_transform, num_feats),\n",
    "    ('cat_transform', cat_transform, cat_feats)\n",
    "    ], remainder='drop')"
   ]
  },
  {
   "cell_type": "code",
   "execution_count": 85,
   "metadata": {},
   "outputs": [],
   "source": [
    "pipeline = Pipeline([\n",
    "    # ('initial_shift', functions.shiftTime(rolling=1)),\n",
    "    # ('drop_nans', t_drop_na),\n",
    "    ('preprocessing', preprocessing),\n",
    "    ('classifier', LinearRegression()),\n",
    "    ])"
   ]
  },
  {
   "cell_type": "code",
   "execution_count": 86,
   "metadata": {},
   "outputs": [
    {
     "name": "stderr",
     "output_type": "stream",
     "text": [
      "c:\\Users\\lapen\\anaconda3\\lib\\site-packages\\sklearn\\feature_selection\\_univariate_selection.py:109: RuntimeWarning: invalid value encountered in true_divide\n",
      "  msw = sswn / float(dfwn)\n"
     ]
    }
   ],
   "source": [
    "model = pipeline.fit(X_train, y_train)"
   ]
  },
  {
   "cell_type": "code",
   "execution_count": 90,
   "metadata": {},
   "outputs": [],
   "source": [
    "y_pred = model.predict(X_test)"
   ]
  },
  {
   "cell_type": "code",
   "execution_count": 91,
   "metadata": {},
   "outputs": [
    {
     "data": {
      "text/plain": [
       "16.02524262079051"
      ]
     },
     "execution_count": 91,
     "metadata": {},
     "output_type": "execute_result"
    }
   ],
   "source": [
    "mean_squared_error(y_test, y_pred)"
   ]
  },
  {
   "cell_type": "code",
   "execution_count": 92,
   "metadata": {},
   "outputs": [],
   "source": [
    "pred_df = pd.concat([y_test, pd.Series(y_pred, index=y_test.index)], axis=1)"
   ]
  },
  {
   "cell_type": "code",
   "execution_count": 93,
   "metadata": {},
   "outputs": [
    {
     "data": {
      "text/plain": [
       "<AxesSubplot:>"
      ]
     },
     "execution_count": 93,
     "metadata": {},
     "output_type": "execute_result"
    },
    {
     "data": {
      "image/png": "[encoded data removed]",
      "text/plain": [
       "<Figure size 432x288 with 1 Axes>"
      ]
     },
     "metadata": {},
     "output_type": "display_data"
    }
   ],
   "source": [
    "sns.lineplot(data=pred_df)"
   ]
  },
  {
   "cell_type": "code",
   "execution_count": 94,
   "metadata": {},
   "outputs": [
    {
     "data": {
      "text/html": [
       "<div>\n",
       "<style scoped>\n",
       "    .dataframe tbody tr th:only-of-type {\n",
       "        vertical-align: middle;\n",
       "    }\n",
       "\n",
       "    .dataframe tbody tr th {\n",
       "        vertical-align: top;\n",
       "    }\n",
       "\n",
       "    .dataframe thead th {\n",
       "        text-align: right;\n",
       "    }\n",
       "</style>\n",
       "<table border=\"1\" class=\"dataframe\">\n",
       "  <thead>\n",
       "    <tr style=\"text-align: right;\">\n",
       "      <th></th>\n",
       "      <th>nflx_Adj Close</th>\n",
       "      <th>0</th>\n",
       "    </tr>\n",
       "  </thead>\n",
       "  <tbody>\n",
       "    <tr>\n",
       "      <th>2022-08-10</th>\n",
       "      <td>244.110001</td>\n",
       "      <td>240.666155</td>\n",
       "    </tr>\n",
       "    <tr>\n",
       "      <th>2022-08-11</th>\n",
       "      <td>242.699997</td>\n",
       "      <td>248.690988</td>\n",
       "    </tr>\n",
       "    <tr>\n",
       "      <th>2022-08-12</th>\n",
       "      <td>249.300003</td>\n",
       "      <td>248.731072</td>\n",
       "    </tr>\n",
       "  </tbody>\n",
       "</table>\n",
       "</div>"
      ],
      "text/plain": [
       "            nflx_Adj Close           0\n",
       "2022-08-10      244.110001  240.666155\n",
       "2022-08-11      242.699997  248.690988\n",
       "2022-08-12      249.300003  248.731072"
      ]
     },
     "execution_count": 94,
     "metadata": {},
     "output_type": "execute_result"
    }
   ],
   "source": [
    "pred_df"
   ]
  },
  {
   "cell_type": "code",
   "execution_count": null,
   "metadata": {},
   "outputs": [],
   "source": []
  }
 ],
 "metadata": {
  "kernelspec": {
   "display_name": "Python 3.9.7 ('base')",
   "language": "python",
   "name": "python3"
  },
  "language_info": {
   "codemirror_mode": {
    "name": "ipython",
    "version": 3
   },
   "file_extension": ".py",
   "mimetype": "text/x-python",
   "name": "python",
   "nbconvert_exporter": "python",
   "pygments_lexer": "ipython3",
   "version": "3.9.7"
  },
  "orig_nbformat": 4,
  "vscode": {
   "interpreter": {
    "hash": "48f1e5342cf8a6c153dbe25f8f15edc1b1c2836d33c4cf2b2335313fcb64d162"
   }
  }
 },
 "nbformat": 4,
 "nbformat_minor": 2
}
