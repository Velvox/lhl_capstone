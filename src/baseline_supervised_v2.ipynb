{
 "cells": [
  {
   "cell_type": "code",
   "execution_count": 157,
   "metadata": {},
   "outputs": [],
   "source": [
    "import pandas as pd\n",
    "import numpy as np\n",
    "\n",
    "# plotting\n",
    "import matplotlib.pyplot as plt\n",
    "import seaborn as sns\n",
    "from pandas.plotting import autocorrelation_plot\n",
    "sns.set_style(\"dark\")\n",
    "\n",
    "# Data preprocessing\n",
    "from sklearn.preprocessing import MinMaxScaler, StandardScaler\n",
    "from pandas_datareader.data import DataReader\n",
    "import datetime as dt\n",
    "\n",
    "# libraries for pipeline|\n",
    "from sklearn.preprocessing import FunctionTransformer, OneHotEncoder, StandardScaler, MinMaxScaler, RobustScaler, MaxAbsScaler\n",
    "from sklearn.feature_selection import SelectKBest, f_regression\n",
    "from sklearn.compose import ColumnTransformer\n",
    "from sklearn.pipeline import Pipeline, FeatureUnion\n",
    "from sklearn.impute import SimpleImputer, KNNImputer\n",
    "from sklearn.decomposition import PCA\n",
    "\n",
    "# Gridsearch\n",
    "from sklearn.model_selection import TimeSeriesSplit, GridSearchCV, cross_val_score\n",
    "\n",
    "#metrics\n",
    "import sklearn.metrics as metrics\n",
    "\n",
    "# Models to try\n",
    "from sklearn.linear_model import LinearRegression, SGDRegressor, Ridge\n",
    "from sklearn.neural_network import MLPRegressor\n",
    "from sklearn.neighbors import KNeighborsRegressor\n",
    "from sklearn.ensemble import RandomForestRegressor\n",
    "from sklearn.svm import SVR\n",
    "import xgboost as xgb\n",
    "\n",
    "# custom functions\n",
    "from modules import functions"
   ]
  },
  {
   "cell_type": "markdown",
   "metadata": {},
   "source": [
    "# Market Data Gathering"
   ]
  },
  {
   "cell_type": "code",
   "execution_count": 158,
   "metadata": {},
   "outputs": [],
   "source": [
    "# Important dates\n",
    "start = dt.datetime(2022,7,23)\n",
    "end = dt.datetime(2022,8,14)\n"
   ]
  },
  {
   "cell_type": "code",
   "execution_count": 159,
   "metadata": {},
   "outputs": [],
   "source": [
    "# import data\n",
    "nflx = DataReader(\"NFLX\",  \"yahoo\", start, end)\n",
    "gspc = DataReader(\"^GSPC\", \"yahoo\", start, end)"
   ]
  },
  {
   "cell_type": "code",
   "execution_count": 160,
   "metadata": {},
   "outputs": [],
   "source": [
    "# # concatenate stock and market data\n",
    "features = functions.concatRename(nflx, 'nflx_', pd.DataFrame(gspc['Adj Close']), 'gspc_')"
   ]
  },
  {
   "cell_type": "markdown",
   "metadata": {},
   "source": [
    "# Set-up time series prediction\n",
    "\n",
    "Pipelines does not support dropping rows in the target data, so we must pre-process here. We take the features from the previous n days and use them to predict "
   ]
  },
  {
   "cell_type": "code",
   "execution_count": 161,
   "metadata": {},
   "outputs": [],
   "source": [
    "# target variable name\n",
    "nflx_target = 'nflx_Adj Close'\n",
    "\n",
    "# we do not drop the target variable, as we'll be shifting it\n",
    "X = features\n",
    "y = features[nflx_target]"
   ]
  },
  {
   "cell_type": "code",
   "execution_count": 162,
   "metadata": {},
   "outputs": [
    {
     "data": {
      "text/plain": [
       "(15, 7)"
      ]
     },
     "execution_count": 162,
     "metadata": {},
     "output_type": "execute_result"
    }
   ],
   "source": [
    "X.shape"
   ]
  },
  {
   "cell_type": "code",
   "execution_count": 163,
   "metadata": {},
   "outputs": [
    {
     "data": {
      "text/plain": [
       "(15,)"
      ]
     },
     "execution_count": 163,
     "metadata": {},
     "output_type": "execute_result"
    }
   ],
   "source": [
    "y.shape"
   ]
  },
  {
   "cell_type": "code",
   "execution_count": 164,
   "metadata": {},
   "outputs": [],
   "source": [
    "# shift features and drop nans\n",
    "rolling = 1\n",
    "X_shifted = functions.shiftTime(X, rolling)\n",
    "\n",
    "# find diff and drop nans\n",
    "diff_delta = 1\n",
    "X_diff = functions.trendDiff(X_shifted[[nflx_target]],diff_delta)\n",
    "\n",
    "# put together\n",
    "X_shifted = functions.concatRename(X_shifted, '', X_diff, 'diff_')\n",
    "X_shifted.dropna(how='all', inplace=True)\n",
    "\n",
    "# drop rolling rows from y\n",
    "y_shifted = y.iloc[rolling:]"
   ]
  },
  {
   "cell_type": "code",
   "execution_count": 165,
   "metadata": {},
   "outputs": [],
   "source": [
    "# take the last % for validation\n",
    "test_size = 0.1\n",
    "\n",
    "X_train, X_test = functions.testSplit(X_shifted, test_size)\n",
    "y_train, y_test = functions.testSplit(y_shifted, test_size)"
   ]
  },
  {
   "cell_type": "markdown",
   "metadata": {},
   "source": [
    "# Pipeline"
   ]
  },
  {
   "cell_type": "code",
   "execution_count": 166,
   "metadata": {},
   "outputs": [],
   "source": [
    "# # specify feats for column transformer, those not included will be dropped\n",
    "# num_feats = X_train.columns\n",
    "\n",
    "# # only differenced columns\n",
    "# num_feats = [feat for feat in X_train.columns if 'diff' in feat]\n",
    "\n",
    "# Just important features\n",
    "num_feats = X_shifted.columns"
   ]
  },
  {
   "cell_type": "code",
   "execution_count": 167,
   "metadata": {},
   "outputs": [],
   "source": [
    "# Feature Engineering Pipelines\n",
    "\n",
    "num_transform = Pipeline([\n",
    "    ('Imputer', KNNImputer()),\n",
    "    ('scaling', StandardScaler()),\n",
    "    # ('PCA', PCA(n_components=2))\n",
    "    ])"
   ]
  },
  {
   "cell_type": "code",
   "execution_count": 168,
   "metadata": {},
   "outputs": [],
   "source": [
    "feature_engineering = ColumnTransformer([\n",
    "    ('num_transform', num_transform, num_feats),\n",
    "    ], remainder='drop')"
   ]
  },
  {
   "cell_type": "code",
   "execution_count": 169,
   "metadata": {},
   "outputs": [],
   "source": [
    "pipeline = Pipeline([\n",
    "    ('feature_engineering', feature_engineering),\n",
    "    ('regressor', LinearRegression()),\n",
    "    ])"
   ]
  },
  {
   "cell_type": "code",
   "execution_count": 170,
   "metadata": {},
   "outputs": [
    {
     "name": "stdout",
     "output_type": "stream",
     "text": [
      "# train pred\n",
      "explained_variance:  0.7134\n",
      "mean_squared_log_error:  0.0003\n",
      "r2:  0.7134\n",
      "MAE:  3.4194\n",
      "MSE:  16.9861\n",
      "RMSE:  4.1214\n",
      "# test pred\n",
      "explained_variance:  1.0\n",
      "mean_squared_log_error:  0.0\n",
      "r2:  nan\n",
      "MAE:  0.9365\n",
      "MSE:  0.8771\n",
      "RMSE:  0.9365\n"
     ]
    },
    {
     "name": "stderr",
     "output_type": "stream",
     "text": [
      "c:\\Users\\lapen\\anaconda3\\lib\\site-packages\\sklearn\\metrics\\_regression.py:918: UndefinedMetricWarning: R^2 score is not well-defined with less than two samples.\n",
      "  warnings.warn(msg, UndefinedMetricWarning)\n"
     ]
    }
   ],
   "source": [
    "# calculate baseline score\n",
    "model = pipeline.fit(X_train, y_train)\n",
    "\n",
    "# calculate optimized score\n",
    "print('# train pred')\n",
    "y_train_pred = model.predict(X_train)\n",
    "functions.regression_results(y_train, y_train_pred)\n",
    "\n",
    "print('# test pred')\n",
    "y_test_pred = model.predict(X_test)\n",
    "functions.regression_results(y_test, y_test_pred)"
   ]
  },
  {
   "cell_type": "code",
   "execution_count": 171,
   "metadata": {},
   "outputs": [
    {
     "data": {
      "text/plain": [
       "<AxesSubplot:xlabel='Date'>"
      ]
     },
     "execution_count": 171,
     "metadata": {},
     "output_type": "execute_result"
    },
    {
     "data": {
      "image/png": "[encoded data removed]",
      "text/plain": [
       "<Figure size 432x288 with 1 Axes>"
      ]
     },
     "metadata": {},
     "output_type": "display_data"
    }
   ],
   "source": [
    "# plot training predictions\n",
    "y_train_pred_df = pd.concat([y_train, pd.Series(y_train_pred, index=y_train.index)], axis=1)\n",
    "sns.lineplot(data=y_train_pred_df)"
   ]
  },
  {
   "cell_type": "code",
   "execution_count": 172,
   "metadata": {},
   "outputs": [
    {
     "data": {
      "text/plain": [
       "<AxesSubplot:xlabel='Date'>"
      ]
     },
     "execution_count": 172,
     "metadata": {},
     "output_type": "execute_result"
    },
    {
     "data": {
      "image/png": "[encoded data removed]",
      "text/plain": [
       "<Figure size 432x288 with 1 Axes>"
      ]
     },
     "metadata": {},
     "output_type": "display_data"
    }
   ],
   "source": [
    "# plot predictions\n",
    "y_test_pred_df = pd.concat([y_test, pd.Series(y_test_pred, index=y_test.index)], axis=1)\n",
    "sns.lineplot(data=y_test_pred_df)"
   ]
  },
  {
   "cell_type": "markdown",
   "metadata": {},
   "source": [
    "# Optimization"
   ]
  },
  {
   "cell_type": "code",
   "execution_count": 173,
   "metadata": {},
   "outputs": [],
   "source": [
    "# model params\n",
    "model_params = {\n",
    "    'regressor': [\n",
    "                LinearRegression(), \n",
    "                # MLPRegressor(solver='lbfgs'),\n",
    "                KNeighborsRegressor(),\n",
    "                RandomForestRegressor(n_estimators=10),\n",
    "                SVR(gamma='auto'),\n",
    "                xgb.XGBRegressor(),\n",
    "                ]\n",
    "}"
   ]
  },
  {
   "cell_type": "code",
   "execution_count": 174,
   "metadata": {},
   "outputs": [],
   "source": [
    "# XGBoost params\n",
    "xgb_params = {\n",
    "    'regressor': [xgb.XGBRegressor()],\n",
    "    # 'feature_engineering__num_transform_scaling': [MinMaxScaler(), StandardScaler()],\n",
    "    'regressor__booster': ['gblinear'],\n",
    "    'regressor__lambda': [0, 0.5, 1],\n",
    "    'regressor__alpha': [0, 0.5 , 1],\n",
    "}"
   ]
  },
  {
   "cell_type": "code",
   "execution_count": 175,
   "metadata": {},
   "outputs": [],
   "source": [
    "# make custome scorer\n",
    "rmse_score = metrics.make_scorer(functions.rmse, greater_is_better=False)"
   ]
  },
  {
   "cell_type": "code",
   "execution_count": 176,
   "metadata": {},
   "outputs": [],
   "source": [
    "# instantiate gridsearch and time series CV technique\n",
    "gridsearch = GridSearchCV(estimator=pipeline, param_grid=xgb_params, cv=TimeSeriesSplit(n_splits=3), scoring=rmse_score)"
   ]
  },
  {
   "cell_type": "code",
   "execution_count": 177,
   "metadata": {},
   "outputs": [],
   "source": [
    "# find best model\n",
    "gridsearch.fit(X_train, y_train)\n",
    "best_model = gridsearch.best_estimator_\n",
    "best_score = gridsearch.best_score_"
   ]
  },
  {
   "cell_type": "code",
   "execution_count": 178,
   "metadata": {},
   "outputs": [
    {
     "name": "stdout",
     "output_type": "stream",
     "text": [
      "# train pred\n",
      "explained_variance:  0.4948\n",
      "mean_squared_log_error:  0.0006\n",
      "r2:  0.4948\n",
      "MAE:  4.3278\n",
      "MSE:  29.9365\n",
      "RMSE:  5.4714\n",
      "# test pred\n",
      "explained_variance:  1.0\n",
      "mean_squared_log_error:  0.0012\n",
      "r2:  nan\n",
      "MAE:  8.3818\n",
      "MSE:  70.2547\n",
      "RMSE:  8.3818\n"
     ]
    },
    {
     "name": "stderr",
     "output_type": "stream",
     "text": [
      "c:\\Users\\lapen\\anaconda3\\lib\\site-packages\\sklearn\\metrics\\_regression.py:918: UndefinedMetricWarning: R^2 score is not well-defined with less than two samples.\n",
      "  warnings.warn(msg, UndefinedMetricWarning)\n"
     ]
    }
   ],
   "source": [
    "# calculate optimized score\n",
    "print('# train pred')\n",
    "y_train_pred = best_model.predict(X_train)\n",
    "functions.regression_results(y_train, y_train_pred)\n",
    "\n",
    "print('# test pred')\n",
    "y_test_pred = best_model.predict(X_test)\n",
    "functions.regression_results(y_test, y_test_pred)"
   ]
  },
  {
   "cell_type": "code",
   "execution_count": 179,
   "metadata": {},
   "outputs": [
    {
     "data": {
      "text/plain": [
       "<AxesSubplot:xlabel='Date'>"
      ]
     },
     "execution_count": 179,
     "metadata": {},
     "output_type": "execute_result"
    },
    {
     "data": {
      "image/png": "[encoded data removed]",
      "text/plain": [
       "<Figure size 432x288 with 1 Axes>"
      ]
     },
     "metadata": {},
     "output_type": "display_data"
    }
   ],
   "source": [
    "# plot training predictions\n",
    "y_train_pred_df = pd.concat([y_train, pd.Series(y_train_pred, index=y_train.index)], axis=1)\n",
    "sns.lineplot(data=y_train_pred_df)"
   ]
  },
  {
   "cell_type": "code",
   "execution_count": 180,
   "metadata": {},
   "outputs": [
    {
     "data": {
      "text/html": [
       "<div>\n",
       "<style scoped>\n",
       "    .dataframe tbody tr th:only-of-type {\n",
       "        vertical-align: middle;\n",
       "    }\n",
       "\n",
       "    .dataframe tbody tr th {\n",
       "        vertical-align: top;\n",
       "    }\n",
       "\n",
       "    .dataframe thead th {\n",
       "        text-align: right;\n",
       "    }\n",
       "</style>\n",
       "<table border=\"1\" class=\"dataframe\">\n",
       "  <thead>\n",
       "    <tr style=\"text-align: right;\">\n",
       "      <th></th>\n",
       "      <th>nflx_Adj Close</th>\n",
       "      <th>0</th>\n",
       "    </tr>\n",
       "    <tr>\n",
       "      <th>Date</th>\n",
       "      <th></th>\n",
       "      <th></th>\n",
       "    </tr>\n",
       "  </thead>\n",
       "  <tbody>\n",
       "    <tr>\n",
       "      <th>2022-07-26</th>\n",
       "      <td>213.910004</td>\n",
       "      <td>223.559113</td>\n",
       "    </tr>\n",
       "    <tr>\n",
       "      <th>2022-07-27</th>\n",
       "      <td>226.750000</td>\n",
       "      <td>221.213959</td>\n",
       "    </tr>\n",
       "    <tr>\n",
       "      <th>2022-07-28</th>\n",
       "      <td>226.020004</td>\n",
       "      <td>224.413193</td>\n",
       "    </tr>\n",
       "    <tr>\n",
       "      <th>2022-07-29</th>\n",
       "      <td>224.899994</td>\n",
       "      <td>227.919189</td>\n",
       "    </tr>\n",
       "    <tr>\n",
       "      <th>2022-08-01</th>\n",
       "      <td>226.210007</td>\n",
       "      <td>227.995392</td>\n",
       "    </tr>\n",
       "    <tr>\n",
       "      <th>2022-08-02</th>\n",
       "      <td>221.419998</td>\n",
       "      <td>228.798691</td>\n",
       "    </tr>\n",
       "    <tr>\n",
       "      <th>2022-08-03</th>\n",
       "      <td>226.729996</td>\n",
       "      <td>227.468582</td>\n",
       "    </tr>\n",
       "    <tr>\n",
       "      <th>2022-08-04</th>\n",
       "      <td>229.910004</td>\n",
       "      <td>229.170258</td>\n",
       "    </tr>\n",
       "    <tr>\n",
       "      <th>2022-08-05</th>\n",
       "      <td>226.779999</td>\n",
       "      <td>231.008545</td>\n",
       "    </tr>\n",
       "    <tr>\n",
       "      <th>2022-08-08</th>\n",
       "      <td>233.490005</td>\n",
       "      <td>229.970627</td>\n",
       "    </tr>\n",
       "    <tr>\n",
       "      <th>2022-08-09</th>\n",
       "      <td>229.940002</td>\n",
       "      <td>231.271408</td>\n",
       "    </tr>\n",
       "    <tr>\n",
       "      <th>2022-08-10</th>\n",
       "      <td>244.110001</td>\n",
       "      <td>232.352020</td>\n",
       "    </tr>\n",
       "    <tr>\n",
       "      <th>2022-08-11</th>\n",
       "      <td>242.699997</td>\n",
       "      <td>237.729095</td>\n",
       "    </tr>\n",
       "  </tbody>\n",
       "</table>\n",
       "</div>"
      ],
      "text/plain": [
       "            nflx_Adj Close           0\n",
       "Date                                  \n",
       "2022-07-26      213.910004  223.559113\n",
       "2022-07-27      226.750000  221.213959\n",
       "2022-07-28      226.020004  224.413193\n",
       "2022-07-29      224.899994  227.919189\n",
       "2022-08-01      226.210007  227.995392\n",
       "2022-08-02      221.419998  228.798691\n",
       "2022-08-03      226.729996  227.468582\n",
       "2022-08-04      229.910004  229.170258\n",
       "2022-08-05      226.779999  231.008545\n",
       "2022-08-08      233.490005  229.970627\n",
       "2022-08-09      229.940002  231.271408\n",
       "2022-08-10      244.110001  232.352020\n",
       "2022-08-11      242.699997  237.729095"
      ]
     },
     "execution_count": 180,
     "metadata": {},
     "output_type": "execute_result"
    }
   ],
   "source": [
    "y_train_pred_df"
   ]
  },
  {
   "cell_type": "code",
   "execution_count": 181,
   "metadata": {},
   "outputs": [
    {
     "data": {
      "text/plain": [
       "<AxesSubplot:xlabel='Date'>"
      ]
     },
     "execution_count": 181,
     "metadata": {},
     "output_type": "execute_result"
    },
    {
     "data": {
      "image/png": "[encoded data removed]",
      "text/plain": [
       "<Figure size 432x288 with 1 Axes>"
      ]
     },
     "metadata": {},
     "output_type": "display_data"
    }
   ],
   "source": [
    "# plot predictions\n",
    "y_test_pred_df = pd.concat([y_test, pd.Series(y_test_pred, index=y_test.index)], axis=1)\n",
    "sns.lineplot(data=y_test_pred_df)"
   ]
  },
  {
   "cell_type": "code",
   "execution_count": null,
   "metadata": {},
   "outputs": [],
   "source": []
  }
 ],
 "metadata": {
  "kernelspec": {
   "display_name": "Python 3.9.7 ('base')",
   "language": "python",
   "name": "python3"
  },
  "language_info": {
   "codemirror_mode": {
    "name": "ipython",
    "version": 3
   },
   "file_extension": ".py",
   "mimetype": "text/x-python",
   "name": "python",
   "nbconvert_exporter": "python",
   "pygments_lexer": "ipython3",
   "version": "3.9.7"
  },
  "orig_nbformat": 4,
  "vscode": {
   "interpreter": {
    "hash": "48f1e5342cf8a6c153dbe25f8f15edc1b1c2836d33c4cf2b2335313fcb64d162"
   }
  }
 },
 "nbformat": 4,
 "nbformat_minor": 2
}
