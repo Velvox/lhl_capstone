{
 "cells": [
  {
   "cell_type": "code",
   "execution_count": 27,
   "metadata": {},
   "outputs": [],
   "source": [
    "import pandas as pd\n",
    "import numpy as np\n",
    "\n",
    "# graphing\n",
    "import matplotlib.pyplot as plt\n",
    "import seaborn as sns\n",
    "sns.set_style(\"dark\")\n",
    "\n",
    "# Data preprocessing\n",
    "from sklearn.preprocessing import MinMaxScaler, StandardScaler\n",
    "\n",
    "# Time series\n",
    "from statsmodels.tsa.seasonal import seasonal_decompose"
   ]
  },
  {
   "cell_type": "markdown",
   "metadata": {},
   "source": [
    "# 1 Year"
   ]
  },
  {
   "cell_type": "code",
   "execution_count": 2,
   "metadata": {},
   "outputs": [
    {
     "data": {
      "text/html": [
       "<div>\n",
       "<style scoped>\n",
       "    .dataframe tbody tr th:only-of-type {\n",
       "        vertical-align: middle;\n",
       "    }\n",
       "\n",
       "    .dataframe tbody tr th {\n",
       "        vertical-align: top;\n",
       "    }\n",
       "\n",
       "    .dataframe thead th {\n",
       "        text-align: right;\n",
       "    }\n",
       "</style>\n",
       "<table border=\"1\" class=\"dataframe\">\n",
       "  <thead>\n",
       "    <tr style=\"text-align: right;\">\n",
       "      <th></th>\n",
       "      <th>Date</th>\n",
       "      <th>Open</th>\n",
       "      <th>High</th>\n",
       "      <th>Low</th>\n",
       "      <th>Close</th>\n",
       "      <th>Adj Close</th>\n",
       "      <th>Volume</th>\n",
       "    </tr>\n",
       "  </thead>\n",
       "  <tbody>\n",
       "    <tr>\n",
       "      <th>0</th>\n",
       "      <td>2021-08-04</td>\n",
       "      <td>513.000000</td>\n",
       "      <td>517.979980</td>\n",
       "      <td>510.369995</td>\n",
       "      <td>517.349976</td>\n",
       "      <td>517.349976</td>\n",
       "      <td>2039400</td>\n",
       "    </tr>\n",
       "    <tr>\n",
       "      <th>1</th>\n",
       "      <td>2021-08-05</td>\n",
       "      <td>517.130005</td>\n",
       "      <td>525.409973</td>\n",
       "      <td>514.020020</td>\n",
       "      <td>524.890015</td>\n",
       "      <td>524.890015</td>\n",
       "      <td>2556700</td>\n",
       "    </tr>\n",
       "    <tr>\n",
       "      <th>2</th>\n",
       "      <td>2021-08-06</td>\n",
       "      <td>524.000000</td>\n",
       "      <td>526.840027</td>\n",
       "      <td>519.390015</td>\n",
       "      <td>520.549988</td>\n",
       "      <td>520.549988</td>\n",
       "      <td>1919800</td>\n",
       "    </tr>\n",
       "    <tr>\n",
       "      <th>3</th>\n",
       "      <td>2021-08-09</td>\n",
       "      <td>521.150024</td>\n",
       "      <td>522.669983</td>\n",
       "      <td>517.989990</td>\n",
       "      <td>519.969971</td>\n",
       "      <td>519.969971</td>\n",
       "      <td>1367800</td>\n",
       "    </tr>\n",
       "    <tr>\n",
       "      <th>4</th>\n",
       "      <td>2021-08-10</td>\n",
       "      <td>520.000000</td>\n",
       "      <td>520.789978</td>\n",
       "      <td>512.969971</td>\n",
       "      <td>515.840027</td>\n",
       "      <td>515.840027</td>\n",
       "      <td>1960500</td>\n",
       "    </tr>\n",
       "  </tbody>\n",
       "</table>\n",
       "</div>"
      ],
      "text/plain": [
       "        Date        Open        High         Low       Close   Adj Close  \\\n",
       "0 2021-08-04  513.000000  517.979980  510.369995  517.349976  517.349976   \n",
       "1 2021-08-05  517.130005  525.409973  514.020020  524.890015  524.890015   \n",
       "2 2021-08-06  524.000000  526.840027  519.390015  520.549988  520.549988   \n",
       "3 2021-08-09  521.150024  522.669983  517.989990  519.969971  519.969971   \n",
       "4 2021-08-10  520.000000  520.789978  512.969971  515.840027  515.840027   \n",
       "\n",
       "    Volume  \n",
       "0  2039400  \n",
       "1  2556700  \n",
       "2  1919800  \n",
       "3  1367800  \n",
       "4  1960500  "
      ]
     },
     "execution_count": 2,
     "metadata": {},
     "output_type": "execute_result"
    }
   ],
   "source": [
    "stock_data = pd.read_csv('../data/NFLX_1year.csv')\n",
    "stock_data['Date'] = pd.to_datetime(stock_data['Date'])\n",
    "stock_data.head()"
   ]
  },
  {
   "cell_type": "code",
   "execution_count": 3,
   "metadata": {},
   "outputs": [
    {
     "data": {
      "text/html": [
       "<div>\n",
       "<style scoped>\n",
       "    .dataframe tbody tr th:only-of-type {\n",
       "        vertical-align: middle;\n",
       "    }\n",
       "\n",
       "    .dataframe tbody tr th {\n",
       "        vertical-align: top;\n",
       "    }\n",
       "\n",
       "    .dataframe thead th {\n",
       "        text-align: right;\n",
       "    }\n",
       "</style>\n",
       "<table border=\"1\" class=\"dataframe\">\n",
       "  <thead>\n",
       "    <tr style=\"text-align: right;\">\n",
       "      <th></th>\n",
       "      <th>Open</th>\n",
       "      <th>High</th>\n",
       "      <th>Low</th>\n",
       "      <th>Close</th>\n",
       "      <th>Adj Close</th>\n",
       "      <th>Volume</th>\n",
       "    </tr>\n",
       "    <tr>\n",
       "      <th>Date</th>\n",
       "      <th></th>\n",
       "      <th></th>\n",
       "      <th></th>\n",
       "      <th></th>\n",
       "      <th></th>\n",
       "      <th></th>\n",
       "    </tr>\n",
       "  </thead>\n",
       "  <tbody>\n",
       "    <tr>\n",
       "      <th>2021-08-04</th>\n",
       "      <td>513.000000</td>\n",
       "      <td>517.979980</td>\n",
       "      <td>510.369995</td>\n",
       "      <td>517.349976</td>\n",
       "      <td>517.349976</td>\n",
       "      <td>2039400</td>\n",
       "    </tr>\n",
       "    <tr>\n",
       "      <th>2021-08-05</th>\n",
       "      <td>517.130005</td>\n",
       "      <td>525.409973</td>\n",
       "      <td>514.020020</td>\n",
       "      <td>524.890015</td>\n",
       "      <td>524.890015</td>\n",
       "      <td>2556700</td>\n",
       "    </tr>\n",
       "    <tr>\n",
       "      <th>2021-08-06</th>\n",
       "      <td>524.000000</td>\n",
       "      <td>526.840027</td>\n",
       "      <td>519.390015</td>\n",
       "      <td>520.549988</td>\n",
       "      <td>520.549988</td>\n",
       "      <td>1919800</td>\n",
       "    </tr>\n",
       "    <tr>\n",
       "      <th>2021-08-09</th>\n",
       "      <td>521.150024</td>\n",
       "      <td>522.669983</td>\n",
       "      <td>517.989990</td>\n",
       "      <td>519.969971</td>\n",
       "      <td>519.969971</td>\n",
       "      <td>1367800</td>\n",
       "    </tr>\n",
       "    <tr>\n",
       "      <th>2021-08-10</th>\n",
       "      <td>520.000000</td>\n",
       "      <td>520.789978</td>\n",
       "      <td>512.969971</td>\n",
       "      <td>515.840027</td>\n",
       "      <td>515.840027</td>\n",
       "      <td>1960500</td>\n",
       "    </tr>\n",
       "  </tbody>\n",
       "</table>\n",
       "</div>"
      ],
      "text/plain": [
       "                  Open        High         Low       Close   Adj Close  \\\n",
       "Date                                                                     \n",
       "2021-08-04  513.000000  517.979980  510.369995  517.349976  517.349976   \n",
       "2021-08-05  517.130005  525.409973  514.020020  524.890015  524.890015   \n",
       "2021-08-06  524.000000  526.840027  519.390015  520.549988  520.549988   \n",
       "2021-08-09  521.150024  522.669983  517.989990  519.969971  519.969971   \n",
       "2021-08-10  520.000000  520.789978  512.969971  515.840027  515.840027   \n",
       "\n",
       "             Volume  \n",
       "Date                 \n",
       "2021-08-04  2039400  \n",
       "2021-08-05  2556700  \n",
       "2021-08-06  1919800  \n",
       "2021-08-09  1367800  \n",
       "2021-08-10  1960500  "
      ]
     },
     "execution_count": 3,
     "metadata": {},
     "output_type": "execute_result"
    }
   ],
   "source": [
    "# setting the index as the date\n",
    "stock_data.set_index('Date', inplace=True)\n",
    "stock_data.head()"
   ]
  },
  {
   "cell_type": "code",
   "execution_count": 4,
   "metadata": {},
   "outputs": [
    {
     "data": {
      "text/html": [
       "<div>\n",
       "<style scoped>\n",
       "    .dataframe tbody tr th:only-of-type {\n",
       "        vertical-align: middle;\n",
       "    }\n",
       "\n",
       "    .dataframe tbody tr th {\n",
       "        vertical-align: top;\n",
       "    }\n",
       "\n",
       "    .dataframe thead th {\n",
       "        text-align: right;\n",
       "    }\n",
       "</style>\n",
       "<table border=\"1\" class=\"dataframe\">\n",
       "  <thead>\n",
       "    <tr style=\"text-align: right;\">\n",
       "      <th></th>\n",
       "      <th>Open</th>\n",
       "      <th>High</th>\n",
       "      <th>Low</th>\n",
       "      <th>Close</th>\n",
       "      <th>Adj Close</th>\n",
       "      <th>Volume</th>\n",
       "    </tr>\n",
       "  </thead>\n",
       "  <tbody>\n",
       "    <tr>\n",
       "      <th>count</th>\n",
       "      <td>253.000000</td>\n",
       "      <td>253.000000</td>\n",
       "      <td>253.000000</td>\n",
       "      <td>253.000000</td>\n",
       "      <td>253.000000</td>\n",
       "      <td>2.530000e+02</td>\n",
       "    </tr>\n",
       "    <tr>\n",
       "      <th>mean</th>\n",
       "      <td>429.020236</td>\n",
       "      <td>435.598023</td>\n",
       "      <td>421.527036</td>\n",
       "      <td>428.556046</td>\n",
       "      <td>428.556046</td>\n",
       "      <td>7.933552e+06</td>\n",
       "    </tr>\n",
       "    <tr>\n",
       "      <th>std</th>\n",
       "      <td>180.233812</td>\n",
       "      <td>181.027790</td>\n",
       "      <td>179.067182</td>\n",
       "      <td>179.819426</td>\n",
       "      <td>179.819426</td>\n",
       "      <td>1.103552e+07</td>\n",
       "    </tr>\n",
       "    <tr>\n",
       "      <th>min</th>\n",
       "      <td>163.960007</td>\n",
       "      <td>172.059998</td>\n",
       "      <td>162.710007</td>\n",
       "      <td>166.369995</td>\n",
       "      <td>166.369995</td>\n",
       "      <td>1.287200e+06</td>\n",
       "    </tr>\n",
       "    <tr>\n",
       "      <th>25%</th>\n",
       "      <td>220.000000</td>\n",
       "      <td>226.270004</td>\n",
       "      <td>211.639999</td>\n",
       "      <td>218.509995</td>\n",
       "      <td>218.509995</td>\n",
       "      <td>3.077800e+06</td>\n",
       "    </tr>\n",
       "    <tr>\n",
       "      <th>50%</th>\n",
       "      <td>402.100006</td>\n",
       "      <td>409.359985</td>\n",
       "      <td>395.829987</td>\n",
       "      <td>403.529999</td>\n",
       "      <td>403.529999</td>\n",
       "      <td>5.035000e+06</td>\n",
       "    </tr>\n",
       "    <tr>\n",
       "      <th>75%</th>\n",
       "      <td>598.710022</td>\n",
       "      <td>609.450012</td>\n",
       "      <td>593.669983</td>\n",
       "      <td>599.059998</td>\n",
       "      <td>599.059998</td>\n",
       "      <td>8.522100e+06</td>\n",
       "    </tr>\n",
       "    <tr>\n",
       "      <th>max</th>\n",
       "      <td>692.349976</td>\n",
       "      <td>700.989990</td>\n",
       "      <td>686.090027</td>\n",
       "      <td>691.690002</td>\n",
       "      <td>691.690002</td>\n",
       "      <td>1.333875e+08</td>\n",
       "    </tr>\n",
       "  </tbody>\n",
       "</table>\n",
       "</div>"
      ],
      "text/plain": [
       "             Open        High         Low       Close   Adj Close  \\\n",
       "count  253.000000  253.000000  253.000000  253.000000  253.000000   \n",
       "mean   429.020236  435.598023  421.527036  428.556046  428.556046   \n",
       "std    180.233812  181.027790  179.067182  179.819426  179.819426   \n",
       "min    163.960007  172.059998  162.710007  166.369995  166.369995   \n",
       "25%    220.000000  226.270004  211.639999  218.509995  218.509995   \n",
       "50%    402.100006  409.359985  395.829987  403.529999  403.529999   \n",
       "75%    598.710022  609.450012  593.669983  599.059998  599.059998   \n",
       "max    692.349976  700.989990  686.090027  691.690002  691.690002   \n",
       "\n",
       "             Volume  \n",
       "count  2.530000e+02  \n",
       "mean   7.933552e+06  \n",
       "std    1.103552e+07  \n",
       "min    1.287200e+06  \n",
       "25%    3.077800e+06  \n",
       "50%    5.035000e+06  \n",
       "75%    8.522100e+06  \n",
       "max    1.333875e+08  "
      ]
     },
     "execution_count": 4,
     "metadata": {},
     "output_type": "execute_result"
    }
   ],
   "source": [
    "# Check description of features\n",
    "stock_data.describe()"
   ]
  },
  {
   "cell_type": "code",
   "execution_count": 5,
   "metadata": {},
   "outputs": [],
   "source": [
    "# We will focus on the closing price\n",
    "\n",
    "closing_price = stock_data['Close']"
   ]
  },
  {
   "cell_type": "code",
   "execution_count": 6,
   "metadata": {},
   "outputs": [
    {
     "data": {
      "text/plain": [
       "<AxesSubplot:xlabel='Date', ylabel='Close'>"
      ]
     },
     "execution_count": 6,
     "metadata": {},
     "output_type": "execute_result"
    },
    {
     "data": {
      "image/png": "[encoded data removed]",
      "text/plain": [
       "<Figure size 432x288 with 1 Axes>"
      ]
     },
     "metadata": {},
     "output_type": "display_data"
    }
   ],
   "source": [
    "# We have some very unusual activity, due to the recent challenges faced by the company, it would be interesting to consider the news / social sentiment at that time.\n",
    "\n",
    "sns.lineplot(data=closing_price)"
   ]
  },
  {
   "cell_type": "code",
   "execution_count": 7,
   "metadata": {},
   "outputs": [
    {
     "data": {
      "text/plain": [
       "<AxesSubplot:xlabel='Close', ylabel='Count'>"
      ]
     },
     "execution_count": 7,
     "metadata": {},
     "output_type": "execute_result"
    },
    {
     "data": {
      "image/png": "[encoded data removed]",
      "text/plain": [
       "<Figure size 432x288 with 1 Axes>"
      ]
     },
     "metadata": {},
     "output_type": "display_data"
    }
   ],
   "source": [
    "# Closing price is not gaussian\n",
    "sns.histplot(data=closing_price)"
   ]
  },
  {
   "cell_type": "code",
   "execution_count": 8,
   "metadata": {},
   "outputs": [
    {
     "data": {
      "text/plain": [
       "<AxesSubplot:xlabel='Close', ylabel='Count'>"
      ]
     },
     "execution_count": 8,
     "metadata": {},
     "output_type": "execute_result"
    },
    {
     "data": {
      "image/png": "[encoded data removed]",
      "text/plain": [
       "<Figure size 432x288 with 1 Axes>"
      ]
     },
     "metadata": {},
     "output_type": "display_data"
    }
   ],
   "source": [
    "# Does log help?\n",
    "closing_log = np.log(closing_price)\n",
    "sns.histplot(data=closing_log)"
   ]
  },
  {
   "cell_type": "code",
   "execution_count": 9,
   "metadata": {},
   "outputs": [
    {
     "data": {
      "text/plain": [
       "<AxesSubplot:ylabel='Count'>"
      ]
     },
     "execution_count": 9,
     "metadata": {},
     "output_type": "execute_result"
    },
    {
     "data": {
      "image/png": "[encoded data removed]",
      "text/plain": [
       "<Figure size 432x288 with 1 Axes>"
      ]
     },
     "metadata": {},
     "output_type": "display_data"
    }
   ],
   "source": [
    "# nope, let's scale it. Nope, doesn't help\n",
    "scaler = MinMaxScaler()\n",
    "closing_minmax = scaler.fit_transform(closing_price.values.reshape(-1,1))\n",
    "# scaler.inverse_transform(closing_minmax)\n",
    "sns.histplot(closing_minmax)"
   ]
  },
  {
   "cell_type": "markdown",
   "metadata": {},
   "source": [
    "# 5 Year\n",
    "\n",
    "There's clearly things happening in the past year that we can't predict with the price alone.\n",
    "Let's take a more normal trend as a baseline, and see if we can improve performance on\n",
    "this abnormal data with more features later."
   ]
  },
  {
   "cell_type": "code",
   "execution_count": 16,
   "metadata": {},
   "outputs": [
    {
     "data": {
      "text/html": [
       "<div>\n",
       "<style scoped>\n",
       "    .dataframe tbody tr th:only-of-type {\n",
       "        vertical-align: middle;\n",
       "    }\n",
       "\n",
       "    .dataframe tbody tr th {\n",
       "        vertical-align: top;\n",
       "    }\n",
       "\n",
       "    .dataframe thead th {\n",
       "        text-align: right;\n",
       "    }\n",
       "</style>\n",
       "<table border=\"1\" class=\"dataframe\">\n",
       "  <thead>\n",
       "    <tr style=\"text-align: right;\">\n",
       "      <th></th>\n",
       "      <th>Open</th>\n",
       "      <th>High</th>\n",
       "      <th>Low</th>\n",
       "      <th>Close</th>\n",
       "      <th>Adj Close</th>\n",
       "      <th>Volume</th>\n",
       "    </tr>\n",
       "    <tr>\n",
       "      <th>Date</th>\n",
       "      <th></th>\n",
       "      <th></th>\n",
       "      <th></th>\n",
       "      <th></th>\n",
       "      <th></th>\n",
       "      <th></th>\n",
       "    </tr>\n",
       "  </thead>\n",
       "  <tbody>\n",
       "    <tr>\n",
       "      <th>2017-08-04</th>\n",
       "      <td>179.600006</td>\n",
       "      <td>181.000000</td>\n",
       "      <td>178.500000</td>\n",
       "      <td>180.270004</td>\n",
       "      <td>180.270004</td>\n",
       "      <td>4491100</td>\n",
       "    </tr>\n",
       "    <tr>\n",
       "      <th>2017-08-07</th>\n",
       "      <td>181.000000</td>\n",
       "      <td>182.270004</td>\n",
       "      <td>179.100006</td>\n",
       "      <td>181.330002</td>\n",
       "      <td>181.330002</td>\n",
       "      <td>4609800</td>\n",
       "    </tr>\n",
       "    <tr>\n",
       "      <th>2017-08-08</th>\n",
       "      <td>181.369995</td>\n",
       "      <td>181.910004</td>\n",
       "      <td>177.449997</td>\n",
       "      <td>178.360001</td>\n",
       "      <td>178.360001</td>\n",
       "      <td>6104000</td>\n",
       "    </tr>\n",
       "    <tr>\n",
       "      <th>2017-08-09</th>\n",
       "      <td>171.429993</td>\n",
       "      <td>175.960007</td>\n",
       "      <td>170.009995</td>\n",
       "      <td>175.779999</td>\n",
       "      <td>175.779999</td>\n",
       "      <td>9670500</td>\n",
       "    </tr>\n",
       "    <tr>\n",
       "      <th>2017-08-10</th>\n",
       "      <td>174.029999</td>\n",
       "      <td>174.449997</td>\n",
       "      <td>167.600006</td>\n",
       "      <td>169.139999</td>\n",
       "      <td>169.139999</td>\n",
       "      <td>9693100</td>\n",
       "    </tr>\n",
       "  </tbody>\n",
       "</table>\n",
       "</div>"
      ],
      "text/plain": [
       "                  Open        High         Low       Close   Adj Close  \\\n",
       "Date                                                                     \n",
       "2017-08-04  179.600006  181.000000  178.500000  180.270004  180.270004   \n",
       "2017-08-07  181.000000  182.270004  179.100006  181.330002  181.330002   \n",
       "2017-08-08  181.369995  181.910004  177.449997  178.360001  178.360001   \n",
       "2017-08-09  171.429993  175.960007  170.009995  175.779999  175.779999   \n",
       "2017-08-10  174.029999  174.449997  167.600006  169.139999  169.139999   \n",
       "\n",
       "             Volume  \n",
       "Date                 \n",
       "2017-08-04  4491100  \n",
       "2017-08-07  4609800  \n",
       "2017-08-08  6104000  \n",
       "2017-08-09  9670500  \n",
       "2017-08-10  9693100  "
      ]
     },
     "execution_count": 16,
     "metadata": {},
     "output_type": "execute_result"
    }
   ],
   "source": [
    "five_yr_stock = pd.read_csv('../data/NFLX_5year.csv')\n",
    "five_yr_stock.set_index('Date', inplace=True)\n",
    "five_yr_stock.index = pd.to_datetime(five_yr_stock.index)\n",
    "five_yr_stock.head()"
   ]
  },
  {
   "cell_type": "code",
   "execution_count": 17,
   "metadata": {},
   "outputs": [
    {
     "name": "stdout",
     "output_type": "stream",
     "text": [
      "<class 'pandas.core.frame.DataFrame'>\n",
      "DatetimeIndex: 1258 entries, 2017-08-04 to 2022-08-03\n",
      "Data columns (total 6 columns):\n",
      " #   Column     Non-Null Count  Dtype  \n",
      "---  ------     --------------  -----  \n",
      " 0   Open       1258 non-null   float64\n",
      " 1   High       1258 non-null   float64\n",
      " 2   Low        1258 non-null   float64\n",
      " 3   Close      1258 non-null   float64\n",
      " 4   Adj Close  1258 non-null   float64\n",
      " 5   Volume     1258 non-null   int64  \n",
      "dtypes: float64(5), int64(1)\n",
      "memory usage: 68.8 KB\n"
     ]
    }
   ],
   "source": [
    "# Check for null\n",
    "five_yr_stock.info()"
   ]
  },
  {
   "cell_type": "code",
   "execution_count": 18,
   "metadata": {},
   "outputs": [
    {
     "data": {
      "text/html": [
       "<div>\n",
       "<style scoped>\n",
       "    .dataframe tbody tr th:only-of-type {\n",
       "        vertical-align: middle;\n",
       "    }\n",
       "\n",
       "    .dataframe tbody tr th {\n",
       "        vertical-align: top;\n",
       "    }\n",
       "\n",
       "    .dataframe thead th {\n",
       "        text-align: right;\n",
       "    }\n",
       "</style>\n",
       "<table border=\"1\" class=\"dataframe\">\n",
       "  <thead>\n",
       "    <tr style=\"text-align: right;\">\n",
       "      <th></th>\n",
       "      <th>Open</th>\n",
       "      <th>High</th>\n",
       "      <th>Low</th>\n",
       "      <th>Close</th>\n",
       "      <th>Adj Close</th>\n",
       "      <th>Volume</th>\n",
       "    </tr>\n",
       "  </thead>\n",
       "  <tbody>\n",
       "    <tr>\n",
       "      <th>count</th>\n",
       "      <td>1258.000000</td>\n",
       "      <td>1258.000000</td>\n",
       "      <td>1258.000000</td>\n",
       "      <td>1258.000000</td>\n",
       "      <td>1258.000000</td>\n",
       "      <td>1.258000e+03</td>\n",
       "    </tr>\n",
       "    <tr>\n",
       "      <th>mean</th>\n",
       "      <td>381.709595</td>\n",
       "      <td>387.534562</td>\n",
       "      <td>375.478013</td>\n",
       "      <td>381.666717</td>\n",
       "      <td>381.666717</td>\n",
       "      <td>7.881583e+06</td>\n",
       "    </tr>\n",
       "    <tr>\n",
       "      <th>std</th>\n",
       "      <td>127.377456</td>\n",
       "      <td>128.550928</td>\n",
       "      <td>125.920802</td>\n",
       "      <td>127.131821</td>\n",
       "      <td>127.131821</td>\n",
       "      <td>6.707878e+06</td>\n",
       "    </tr>\n",
       "    <tr>\n",
       "      <th>min</th>\n",
       "      <td>163.960007</td>\n",
       "      <td>168.669998</td>\n",
       "      <td>162.710007</td>\n",
       "      <td>165.949997</td>\n",
       "      <td>165.949997</td>\n",
       "      <td>1.144000e+06</td>\n",
       "    </tr>\n",
       "    <tr>\n",
       "      <th>25%</th>\n",
       "      <td>295.000000</td>\n",
       "      <td>299.045006</td>\n",
       "      <td>289.845001</td>\n",
       "      <td>294.207497</td>\n",
       "      <td>294.207497</td>\n",
       "      <td>4.328175e+06</td>\n",
       "    </tr>\n",
       "    <tr>\n",
       "      <th>50%</th>\n",
       "      <td>362.110001</td>\n",
       "      <td>367.364990</td>\n",
       "      <td>356.625000</td>\n",
       "      <td>361.865005</td>\n",
       "      <td>361.865005</td>\n",
       "      <td>6.114950e+06</td>\n",
       "    </tr>\n",
       "    <tr>\n",
       "      <th>75%</th>\n",
       "      <td>495.000000</td>\n",
       "      <td>502.992500</td>\n",
       "      <td>487.775002</td>\n",
       "      <td>494.557503</td>\n",
       "      <td>494.557503</td>\n",
       "      <td>9.408100e+06</td>\n",
       "    </tr>\n",
       "    <tr>\n",
       "      <th>max</th>\n",
       "      <td>692.349976</td>\n",
       "      <td>700.989990</td>\n",
       "      <td>686.090027</td>\n",
       "      <td>691.690002</td>\n",
       "      <td>691.690002</td>\n",
       "      <td>1.333875e+08</td>\n",
       "    </tr>\n",
       "  </tbody>\n",
       "</table>\n",
       "</div>"
      ],
      "text/plain": [
       "              Open         High          Low        Close    Adj Close  \\\n",
       "count  1258.000000  1258.000000  1258.000000  1258.000000  1258.000000   \n",
       "mean    381.709595   387.534562   375.478013   381.666717   381.666717   \n",
       "std     127.377456   128.550928   125.920802   127.131821   127.131821   \n",
       "min     163.960007   168.669998   162.710007   165.949997   165.949997   \n",
       "25%     295.000000   299.045006   289.845001   294.207497   294.207497   \n",
       "50%     362.110001   367.364990   356.625000   361.865005   361.865005   \n",
       "75%     495.000000   502.992500   487.775002   494.557503   494.557503   \n",
       "max     692.349976   700.989990   686.090027   691.690002   691.690002   \n",
       "\n",
       "             Volume  \n",
       "count  1.258000e+03  \n",
       "mean   7.881583e+06  \n",
       "std    6.707878e+06  \n",
       "min    1.144000e+06  \n",
       "25%    4.328175e+06  \n",
       "50%    6.114950e+06  \n",
       "75%    9.408100e+06  \n",
       "max    1.333875e+08  "
      ]
     },
     "execution_count": 18,
     "metadata": {},
     "output_type": "execute_result"
    }
   ],
   "source": [
    "five_yr_stock.describe()"
   ]
  },
  {
   "cell_type": "code",
   "execution_count": 19,
   "metadata": {},
   "outputs": [
    {
     "data": {
      "text/plain": [
       "<AxesSubplot:xlabel='Date', ylabel='Close'>"
      ]
     },
     "execution_count": 19,
     "metadata": {},
     "output_type": "execute_result"
    },
    {
     "data": {
      "image/png": "[encoded data removed]",
      "text/plain": [
       "<Figure size 432x288 with 1 Axes>"
      ]
     },
     "metadata": {},
     "output_type": "display_data"
    }
   ],
   "source": [
    "five_close = five_yr_stock['Close']\n",
    "sns.lineplot(data=five_close)"
   ]
  },
  {
   "cell_type": "code",
   "execution_count": 22,
   "metadata": {},
   "outputs": [
    {
     "data": {
      "text/plain": [
       "pandas.core.indexes.datetimes.DatetimeIndex"
      ]
     },
     "execution_count": 22,
     "metadata": {},
     "output_type": "execute_result"
    }
   ],
   "source": [
    "type(five_close.index)"
   ]
  },
  {
   "cell_type": "code",
   "execution_count": 26,
   "metadata": {},
   "outputs": [
    {
     "data": {
      "text/plain": [
       "<AxesSubplot:xlabel='Date', ylabel='Close'>"
      ]
     },
     "execution_count": 26,
     "metadata": {},
     "output_type": "execute_result"
    },
    {
     "data": {
      "image/png": "[encoded data removed]",
      "text/plain": [
       "<Figure size 432x288 with 1 Axes>"
      ]
     },
     "metadata": {},
     "output_type": "display_data"
    }
   ],
   "source": [
    "# We will start not considering 2022 data for our baseline\n",
    "five_close = five_close.loc[:'2022-01-01']\n",
    "sns.lineplot(data=five_close)"
   ]
  },
  {
   "cell_type": "markdown",
   "metadata": {},
   "source": [
    "# Decomposition"
   ]
  },
  {
   "cell_type": "markdown",
   "metadata": {},
   "source": []
  }
 ],
 "metadata": {
  "kernelspec": {
   "display_name": "Python 3.9.7 ('base')",
   "language": "python",
   "name": "python3"
  },
  "language_info": {
   "codemirror_mode": {
    "name": "ipython",
    "version": 3
   },
   "file_extension": ".py",
   "mimetype": "text/x-python",
   "name": "python",
   "nbconvert_exporter": "python",
   "pygments_lexer": "ipython3",
   "version": "3.9.7"
  },
  "orig_nbformat": 4,
  "vscode": {
   "interpreter": {
    "hash": "48f1e5342cf8a6c153dbe25f8f15edc1b1c2836d33c4cf2b2335313fcb64d162"
   }
  }
 },
 "nbformat": 4,
 "nbformat_minor": 2
}
