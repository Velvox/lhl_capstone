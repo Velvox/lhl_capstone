{
 "cells": [
  {
   "cell_type": "code",
   "execution_count": 1,
   "metadata": {},
   "outputs": [],
   "source": [
    "import pandas as pd\n",
    "import numpy as np\n",
    "\n",
    "# plotting\n",
    "import matplotlib.pyplot as plt\n",
    "import seaborn as sns\n",
    "from pandas.plotting import autocorrelation_plot\n",
    "sns.set_style(\"dark\")\n",
    "\n",
    "# Data preprocessing\n",
    "from sklearn.preprocessing import MinMaxScaler, StandardScaler\n",
    "from pandas_datareader.data import DataReader\n",
    "import datetime as dt\n",
    "\n",
    "# Time series\n",
    "from statsmodels.tsa.seasonal import seasonal_decompose\n",
    "\n",
    "#metrics\n",
    "from sklearn.metrics import mean_squared_error\n",
    "\n",
    "# custom functions\n",
    "import functions"
   ]
  },
  {
   "cell_type": "code",
   "execution_count": 2,
   "metadata": {},
   "outputs": [],
   "source": [
    "# Important dates\n",
    "start = dt.datetime(2017,8,6)\n",
    "end = dt.datetime(2022,8,6)"
   ]
  },
  {
   "cell_type": "code",
   "execution_count": 3,
   "metadata": {},
   "outputs": [
    {
     "data": {
      "text/plain": [
       "Date\n",
       "2017-08-07    181.330002\n",
       "2017-08-08    178.360001\n",
       "2017-08-09    175.779999\n",
       "2017-08-10    169.139999\n",
       "2017-08-11    171.399994\n",
       "                 ...    \n",
       "2022-08-01    226.210007\n",
       "2022-08-02    221.419998\n",
       "2022-08-03    226.729996\n",
       "2022-08-04    229.910004\n",
       "2022-08-05    226.779999\n",
       "Name: Adj Close, Length: 1259, dtype: float64"
      ]
     },
     "execution_count": 3,
     "metadata": {},
     "output_type": "execute_result"
    }
   ],
   "source": [
    "# import netflix stock\n",
    "nflx = DataReader(\"NFLX\",  \"yahoo\", start, end)\n",
    "nflx[\"Adj Close\"]"
   ]
  },
  {
   "cell_type": "code",
   "execution_count": 4,
   "metadata": {},
   "outputs": [
    {
     "data": {
      "text/html": [
       "<div>\n",
       "<style scoped>\n",
       "    .dataframe tbody tr th:only-of-type {\n",
       "        vertical-align: middle;\n",
       "    }\n",
       "\n",
       "    .dataframe tbody tr th {\n",
       "        vertical-align: top;\n",
       "    }\n",
       "\n",
       "    .dataframe thead th {\n",
       "        text-align: right;\n",
       "    }\n",
       "</style>\n",
       "<table border=\"1\" class=\"dataframe\">\n",
       "  <thead>\n",
       "    <tr style=\"text-align: right;\">\n",
       "      <th></th>\n",
       "      <th>High</th>\n",
       "      <th>Low</th>\n",
       "      <th>Open</th>\n",
       "      <th>Close</th>\n",
       "      <th>Volume</th>\n",
       "      <th>Adj Close</th>\n",
       "    </tr>\n",
       "    <tr>\n",
       "      <th>Date</th>\n",
       "      <th></th>\n",
       "      <th></th>\n",
       "      <th></th>\n",
       "      <th></th>\n",
       "      <th></th>\n",
       "      <th></th>\n",
       "    </tr>\n",
       "  </thead>\n",
       "  <tbody>\n",
       "    <tr>\n",
       "      <th>2017-08-07</th>\n",
       "      <td>11987.790039</td>\n",
       "      <td>11969.940430</td>\n",
       "      <td>11983.719727</td>\n",
       "      <td>11987.769531</td>\n",
       "      <td>2931780000</td>\n",
       "      <td>11987.769531</td>\n",
       "    </tr>\n",
       "    <tr>\n",
       "      <th>2017-08-08</th>\n",
       "      <td>12019.849609</td>\n",
       "      <td>11931.709961</td>\n",
       "      <td>11987.769531</td>\n",
       "      <td>11949.969727</td>\n",
       "      <td>3344640000</td>\n",
       "      <td>11949.969727</td>\n",
       "    </tr>\n",
       "    <tr>\n",
       "      <th>2017-08-09</th>\n",
       "      <td>11930.129883</td>\n",
       "      <td>11896.360352</td>\n",
       "      <td>11906.629883</td>\n",
       "      <td>11929.459961</td>\n",
       "      <td>3308060000</td>\n",
       "      <td>11929.459961</td>\n",
       "    </tr>\n",
       "    <tr>\n",
       "      <th>2017-08-10</th>\n",
       "      <td>11889.280273</td>\n",
       "      <td>11770.480469</td>\n",
       "      <td>11889.280273</td>\n",
       "      <td>11771.599609</td>\n",
       "      <td>3621070000</td>\n",
       "      <td>11771.599609</td>\n",
       "    </tr>\n",
       "    <tr>\n",
       "      <th>2017-08-11</th>\n",
       "      <td>11791.379883</td>\n",
       "      <td>11753.299805</td>\n",
       "      <td>11754.400391</td>\n",
       "      <td>11763.219727</td>\n",
       "      <td>3159930000</td>\n",
       "      <td>11763.219727</td>\n",
       "    </tr>\n",
       "  </tbody>\n",
       "</table>\n",
       "</div>"
      ],
      "text/plain": [
       "                    High           Low          Open         Close  \\\n",
       "Date                                                                 \n",
       "2017-08-07  11987.790039  11969.940430  11983.719727  11987.769531   \n",
       "2017-08-08  12019.849609  11931.709961  11987.769531  11949.969727   \n",
       "2017-08-09  11930.129883  11896.360352  11906.629883  11929.459961   \n",
       "2017-08-10  11889.280273  11770.480469  11889.280273  11771.599609   \n",
       "2017-08-11  11791.379883  11753.299805  11754.400391  11763.219727   \n",
       "\n",
       "                Volume     Adj Close  \n",
       "Date                                  \n",
       "2017-08-07  2931780000  11987.769531  \n",
       "2017-08-08  3344640000  11949.969727  \n",
       "2017-08-09  3308060000  11929.459961  \n",
       "2017-08-10  3621070000  11771.599609  \n",
       "2017-08-11  3159930000  11763.219727  "
      ]
     },
     "execution_count": 4,
     "metadata": {},
     "output_type": "execute_result"
    }
   ],
   "source": [
    "# import nasdaq stock\n",
    "nasdaq = DataReader(\"^NYA\",  \"yahoo\", start, end)\n",
    "nasdaq.head()"
   ]
  },
  {
   "cell_type": "code",
   "execution_count": 5,
   "metadata": {},
   "outputs": [
    {
     "data": {
      "text/html": [
       "<div>\n",
       "<style scoped>\n",
       "    .dataframe tbody tr th:only-of-type {\n",
       "        vertical-align: middle;\n",
       "    }\n",
       "\n",
       "    .dataframe tbody tr th {\n",
       "        vertical-align: top;\n",
       "    }\n",
       "\n",
       "    .dataframe thead th {\n",
       "        text-align: right;\n",
       "    }\n",
       "</style>\n",
       "<table border=\"1\" class=\"dataframe\">\n",
       "  <thead>\n",
       "    <tr style=\"text-align: right;\">\n",
       "      <th></th>\n",
       "      <th>High</th>\n",
       "      <th>Low</th>\n",
       "      <th>Open</th>\n",
       "      <th>Close</th>\n",
       "      <th>Volume</th>\n",
       "      <th>Adj Close</th>\n",
       "    </tr>\n",
       "    <tr>\n",
       "      <th>Date</th>\n",
       "      <th></th>\n",
       "      <th></th>\n",
       "      <th></th>\n",
       "      <th></th>\n",
       "      <th></th>\n",
       "      <th></th>\n",
       "    </tr>\n",
       "  </thead>\n",
       "  <tbody>\n",
       "    <tr>\n",
       "      <th>2017-08-07</th>\n",
       "      <td>2480.949951</td>\n",
       "      <td>2475.879883</td>\n",
       "      <td>2477.139893</td>\n",
       "      <td>2480.909912</td>\n",
       "      <td>2931780000</td>\n",
       "      <td>2480.909912</td>\n",
       "    </tr>\n",
       "    <tr>\n",
       "      <th>2017-08-08</th>\n",
       "      <td>2490.870117</td>\n",
       "      <td>2470.320068</td>\n",
       "      <td>2478.350098</td>\n",
       "      <td>2474.919922</td>\n",
       "      <td>3344640000</td>\n",
       "      <td>2474.919922</td>\n",
       "    </tr>\n",
       "    <tr>\n",
       "      <th>2017-08-09</th>\n",
       "      <td>2474.409912</td>\n",
       "      <td>2462.080078</td>\n",
       "      <td>2465.350098</td>\n",
       "      <td>2474.020020</td>\n",
       "      <td>3308060000</td>\n",
       "      <td>2474.020020</td>\n",
       "    </tr>\n",
       "    <tr>\n",
       "      <th>2017-08-10</th>\n",
       "      <td>2465.379883</td>\n",
       "      <td>2437.750000</td>\n",
       "      <td>2465.379883</td>\n",
       "      <td>2438.209961</td>\n",
       "      <td>3621070000</td>\n",
       "      <td>2438.209961</td>\n",
       "    </tr>\n",
       "    <tr>\n",
       "      <th>2017-08-11</th>\n",
       "      <td>2448.090088</td>\n",
       "      <td>2437.850098</td>\n",
       "      <td>2441.040039</td>\n",
       "      <td>2441.320068</td>\n",
       "      <td>3159930000</td>\n",
       "      <td>2441.320068</td>\n",
       "    </tr>\n",
       "  </tbody>\n",
       "</table>\n",
       "</div>"
      ],
      "text/plain": [
       "                   High          Low         Open        Close      Volume  \\\n",
       "Date                                                                         \n",
       "2017-08-07  2480.949951  2475.879883  2477.139893  2480.909912  2931780000   \n",
       "2017-08-08  2490.870117  2470.320068  2478.350098  2474.919922  3344640000   \n",
       "2017-08-09  2474.409912  2462.080078  2465.350098  2474.020020  3308060000   \n",
       "2017-08-10  2465.379883  2437.750000  2465.379883  2438.209961  3621070000   \n",
       "2017-08-11  2448.090088  2437.850098  2441.040039  2441.320068  3159930000   \n",
       "\n",
       "              Adj Close  \n",
       "Date                     \n",
       "2017-08-07  2480.909912  \n",
       "2017-08-08  2474.919922  \n",
       "2017-08-09  2474.020020  \n",
       "2017-08-10  2438.209961  \n",
       "2017-08-11  2441.320068  "
      ]
     },
     "execution_count": 5,
     "metadata": {},
     "output_type": "execute_result"
    }
   ],
   "source": [
    "# import S&P 500\n",
    "gspc = DataReader(\"^GSPC\", \"yahoo\", start, end)\n",
    "gspc.head()"
   ]
  },
  {
   "cell_type": "code",
   "execution_count": 6,
   "metadata": {},
   "outputs": [
    {
     "data": {
      "image/png": "[encoded data removed]",
      "text/plain": [
       "<Figure size 432x288 with 1 Axes>"
      ]
     },
     "metadata": {},
     "output_type": "display_data"
    },
    {
     "data": {
      "image/png": "[encoded data removed]",
      "text/plain": [
       "<Figure size 432x288 with 1 Axes>"
      ]
     },
     "metadata": {},
     "output_type": "display_data"
    },
    {
     "data": {
      "image/png": "[encoded data removed]",
      "text/plain": [
       "<Figure size 432x288 with 1 Axes>"
      ]
     },
     "metadata": {},
     "output_type": "display_data"
    }
   ],
   "source": [
    "sns.lineplot(data=nflx['Adj Close'])\n",
    "plt.show()\n",
    "sns.lineplot(data=nasdaq['Adj Close'])\n",
    "plt.show()\n",
    "sns.lineplot(data=gspc['Adj Close'])\n",
    "plt.show()"
   ]
  },
  {
   "cell_type": "code",
   "execution_count": 7,
   "metadata": {},
   "outputs": [
    {
     "data": {
      "text/html": [
       "<div>\n",
       "<style scoped>\n",
       "    .dataframe tbody tr th:only-of-type {\n",
       "        vertical-align: middle;\n",
       "    }\n",
       "\n",
       "    .dataframe tbody tr th {\n",
       "        vertical-align: top;\n",
       "    }\n",
       "\n",
       "    .dataframe thead th {\n",
       "        text-align: right;\n",
       "    }\n",
       "</style>\n",
       "<table border=\"1\" class=\"dataframe\">\n",
       "  <thead>\n",
       "    <tr style=\"text-align: right;\">\n",
       "      <th></th>\n",
       "      <th>Adj Close</th>\n",
       "      <th>Adj Close</th>\n",
       "      <th>Adj Close</th>\n",
       "    </tr>\n",
       "  </thead>\n",
       "  <tbody>\n",
       "    <tr>\n",
       "      <th>Adj Close</th>\n",
       "      <td>1.000000</td>\n",
       "      <td>0.525485</td>\n",
       "      <td>0.630309</td>\n",
       "    </tr>\n",
       "    <tr>\n",
       "      <th>Adj Close</th>\n",
       "      <td>0.525485</td>\n",
       "      <td>1.000000</td>\n",
       "      <td>0.950301</td>\n",
       "    </tr>\n",
       "    <tr>\n",
       "      <th>Adj Close</th>\n",
       "      <td>0.630309</td>\n",
       "      <td>0.950301</td>\n",
       "      <td>1.000000</td>\n",
       "    </tr>\n",
       "  </tbody>\n",
       "</table>\n",
       "</div>"
      ],
      "text/plain": [
       "           Adj Close  Adj Close  Adj Close\n",
       "Adj Close   1.000000   0.525485   0.630309\n",
       "Adj Close   0.525485   1.000000   0.950301\n",
       "Adj Close   0.630309   0.950301   1.000000"
      ]
     },
     "execution_count": 7,
     "metadata": {},
     "output_type": "execute_result"
    }
   ],
   "source": [
    "# GSPC has the most correlation with NFLX, so it is the chosen market index\n",
    "pd.concat([nflx['Adj Close'], nasdaq['Adj Close'], gspc['Adj Close']], axis=1).corr()"
   ]
  },
  {
   "cell_type": "code",
   "execution_count": 8,
   "metadata": {},
   "outputs": [
    {
     "ename": "NameError",
     "evalue": "name 'concatRename' is not defined",
     "output_type": "error",
     "traceback": [
      "\u001b[1;31m---------------------------------------------------------------------------\u001b[0m",
      "\u001b[1;31mNameError\u001b[0m                                 Traceback (most recent call last)",
      "\u001b[1;32m~\\AppData\\Local\\Temp/ipykernel_2744/12601917.py\u001b[0m in \u001b[0;36m<module>\u001b[1;34m\u001b[0m\n\u001b[0;32m      1\u001b[0m \u001b[1;31m# concatenate stock and market data\u001b[0m\u001b[1;33m\u001b[0m\u001b[1;33m\u001b[0m\u001b[0m\n\u001b[1;32m----> 2\u001b[1;33m \u001b[0mfeatures\u001b[0m \u001b[1;33m=\u001b[0m \u001b[0mconcatRename\u001b[0m\u001b[1;33m(\u001b[0m\u001b[0mnflx\u001b[0m\u001b[1;33m,\u001b[0m \u001b[1;34m'nflx_'\u001b[0m\u001b[1;33m,\u001b[0m \u001b[0mgspc\u001b[0m\u001b[1;33m,\u001b[0m \u001b[1;34m'gspc_'\u001b[0m\u001b[1;33m)\u001b[0m\u001b[1;33m\u001b[0m\u001b[1;33m\u001b[0m\u001b[0m\n\u001b[0m",
      "\u001b[1;31mNameError\u001b[0m: name 'concatRename' is not defined"
     ]
    }
   ],
   "source": [
    "# concatenate stock and market data\n",
    "features = concatRename(nflx, 'nflx_', gspc, 'gspc_')"
   ]
  },
  {
   "cell_type": "code",
   "execution_count": null,
   "metadata": {},
   "outputs": [],
   "source": []
  }
 ],
 "metadata": {
  "kernelspec": {
   "display_name": "Python 3.9.7 ('base')",
   "language": "python",
   "name": "python3"
  },
  "language_info": {
   "codemirror_mode": {
    "name": "ipython",
    "version": 3
   },
   "file_extension": ".py",
   "mimetype": "text/x-python",
   "name": "python",
   "nbconvert_exporter": "python",
   "pygments_lexer": "ipython3",
   "version": "3.9.7"
  },
  "orig_nbformat": 4,
  "vscode": {
   "interpreter": {
    "hash": "48f1e5342cf8a6c153dbe25f8f15edc1b1c2836d33c4cf2b2335313fcb64d162"
   }
  }
 },
 "nbformat": 4,
 "nbformat_minor": 2
}
