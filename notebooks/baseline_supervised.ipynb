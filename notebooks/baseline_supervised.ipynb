{
 "cells": [
  {
   "cell_type": "code",
   "execution_count": 1,
   "metadata": {},
   "outputs": [],
   "source": [
    "import pandas as pd\n",
    "import numpy as np\n",
    "\n",
    "# plotting\n",
    "import matplotlib.pyplot as plt\n",
    "import seaborn as sns\n",
    "from pandas.plotting import autocorrelation_plot\n",
    "sns.set_style(\"dark\")\n",
    "\n",
    "# Data preprocessing\n",
    "from sklearn.preprocessing import MinMaxScaler, StandardScaler\n",
    "from pandas_datareader.data import DataReader\n",
    "import datetime as dt\n",
    "\n",
    "# libraries for pipeline|\n",
    "from sklearn.preprocessing import FunctionTransformer, OneHotEncoder, StandardScaler, MinMaxScaler, RobustScaler, MaxAbsScaler\n",
    "from sklearn.feature_selection import SelectKBest, f_regression\n",
    "from sklearn.compose import ColumnTransformer\n",
    "from sklearn.pipeline import Pipeline, FeatureUnion\n",
    "from sklearn.impute import SimpleImputer\n",
    "from sklearn.decomposition import PCA\n",
    "\n",
    "#metrics\n",
    "from sklearn.metrics import mean_squared_error\n",
    "\n",
    "# Models to try\n",
    "from sklearn.linear_model import LinearRegression\n",
    "from sklearn.svm import SVC\n",
    "\n",
    "# custom functions\n",
    "import functions"
   ]
  },
  {
   "cell_type": "markdown",
   "metadata": {},
   "source": [
    "# Market Data Gathering"
   ]
  },
  {
   "cell_type": "code",
   "execution_count": 2,
   "metadata": {},
   "outputs": [],
   "source": [
    "# Important dates\n",
    "start = dt.datetime(2017,8,6)\n",
    "end = dt.datetime(2022,8,6)"
   ]
  },
  {
   "cell_type": "code",
   "execution_count": 3,
   "metadata": {},
   "outputs": [],
   "source": [
    "# import data\n",
    "nflx = DataReader(\"NFLX\",  \"yahoo\", start, end)\n",
    "gspc = DataReader(\"^GSPC\", \"yahoo\", start, end)"
   ]
  },
  {
   "cell_type": "code",
   "execution_count": 4,
   "metadata": {},
   "outputs": [],
   "source": [
    "# concatenate stock and market data\n",
    "features = functions.concatRename(nflx, 'nflx_', gspc, 'gspc_')"
   ]
  },
  {
   "cell_type": "code",
   "execution_count": 5,
   "metadata": {},
   "outputs": [],
   "source": [
    "# remove test data from train\n",
    "train, test = functions.testSplit(features)"
   ]
  },
  {
   "cell_type": "code",
   "execution_count": 6,
   "metadata": {},
   "outputs": [],
   "source": [
    "# Establish variables and target\n",
    "nflx_target = 'nflx_Adj Close'\n",
    "gspc_target = 'gspc_Adj Close'\n",
    "\n",
    "# Remove target variable\n",
    "x_train = functions.dropTarget(train, nflx_target)\n",
    "x_test = functions.dropTarget(test, nflx_target)\n",
    "y_train = train[nflx_target]\n",
    "y_test = test[nflx_target]"
   ]
  },
  {
   "cell_type": "code",
   "execution_count": 7,
   "metadata": {},
   "outputs": [
    {
     "data": {
      "text/plain": [
       "(1008, 11)"
      ]
     },
     "execution_count": 7,
     "metadata": {},
     "output_type": "execute_result"
    }
   ],
   "source": [
    "x_train.shape"
   ]
  },
  {
   "cell_type": "code",
   "execution_count": 8,
   "metadata": {},
   "outputs": [
    {
     "data": {
      "text/plain": [
       "(251, 11)"
      ]
     },
     "execution_count": 8,
     "metadata": {},
     "output_type": "execute_result"
    }
   ],
   "source": [
    "x_test.shape"
   ]
  },
  {
   "cell_type": "markdown",
   "metadata": {},
   "source": [
    "# Feature Engineering"
   ]
  },
  {
   "cell_type": "code",
   "execution_count": 9,
   "metadata": {},
   "outputs": [],
   "source": [
    "# function transform nflx engineering functions\n",
    "# t_shiftTime = FunctionTransformer(functions.shiftTime(train))\n",
    "t_rollingMeanShift = FunctionTransformer(functions.rollingMeanShift(train))\n",
    "t_trendDiff = FunctionTransformer(functions.trendDiff(train))"
   ]
  },
  {
   "cell_type": "code",
   "execution_count": 10,
   "metadata": {},
   "outputs": [],
   "source": [
    "feature_engineering = Pipeline([\n",
    "    ('t_nflx_shiftTime', functions.shiftTime),\n",
    "    # ('t_nflx_rollingMeanShift', t_rollingMeanShift),\n",
    "    # ('t_nflx_trendDiff', t_trendDiff)\n",
    "    ], remainder='passthrough')"
   ]
  },
  {
   "cell_type": "code",
   "execution_count": 11,
   "metadata": {},
   "outputs": [],
   "source": [
    "# # function transform gspc engineering functions\n",
    "# t_gspc_shiftTime = FunctionTransformer(functions.shiftTime(train, gspc_target))\n",
    "# t_gspc_rollingMeanShift = FunctionTransformer(functions.rollingMeanShift(train, gspc_target))\n",
    "# t_gspc_trendDiff = FunctionTransformer(functions.trendDiff(train, gspc_target))"
   ]
  },
  {
   "cell_type": "code",
   "execution_count": 12,
   "metadata": {},
   "outputs": [],
   "source": [
    "# gspc_engineering = Pipeline([\n",
    "#     ('t_gspc_shiftTime', t_gspc_shiftTime),\n",
    "#     ('t_gspc_rollingMeanShift', t_gspc_rollingMeanShift),\n",
    "#     ('t_gspc_trendDiff', t_gspc_trendDiff)\n",
    "#     ])"
   ]
  },
  {
   "cell_type": "code",
   "execution_count": 13,
   "metadata": {},
   "outputs": [],
   "source": [
    "# dropping NA values\n",
    "t_dropNa = FunctionTransformer(functions.dropNa)\n",
    "\n",
    "# drop target variable\n",
    "t_dropTarget = FunctionTransformer(functions.dropTarget)\n"
   ]
  },
  {
   "cell_type": "code",
   "execution_count": 14,
   "metadata": {},
   "outputs": [],
   "source": [
    "feature_engineering = Pipeline([\n",
    "    ('feature_engineering', feature_engineering),\n",
    "    ])"
   ]
  },
  {
   "cell_type": "code",
   "execution_count": 15,
   "metadata": {},
   "outputs": [],
   "source": [
    "pipeline = Pipeline([\n",
    "    ('feature_engineering', feature_engineering),\n",
    "    ('dropna', t_dropNa),\n",
    "    ('scaling', StandardScaler()),\n",
    "    ('select_best', SelectKBest(f_regression,k=4)),\n",
    "    ('classifier', LinearRegression())\n",
    "    ], remmainder='passthrough')"
   ]
  },
  {
   "cell_type": "code",
   "execution_count": 16,
   "metadata": {},
   "outputs": [
    {
     "ename": "TypeError",
     "evalue": "Last step of Pipeline should implement fit or be the string 'passthrough'. '<class 'functions.shiftTime'>' (type <class 'type'>) doesn't",
     "output_type": "error",
     "traceback": [
      "\u001b[1;31m---------------------------------------------------------------------------\u001b[0m",
      "\u001b[1;31mTypeError\u001b[0m                                 Traceback (most recent call last)",
      "\u001b[1;32m~\\AppData\\Local\\Temp/ipykernel_10728/360613693.py\u001b[0m in \u001b[0;36m<module>\u001b[1;34m\u001b[0m\n\u001b[1;32m----> 1\u001b[1;33m \u001b[0mmodel\u001b[0m \u001b[1;33m=\u001b[0m \u001b[0mpipeline\u001b[0m\u001b[1;33m.\u001b[0m\u001b[0mfit\u001b[0m\u001b[1;33m(\u001b[0m\u001b[0mx_train\u001b[0m\u001b[1;33m,\u001b[0m \u001b[0my_train\u001b[0m\u001b[1;33m)\u001b[0m\u001b[1;33m\u001b[0m\u001b[1;33m\u001b[0m\u001b[0m\n\u001b[0m",
      "\u001b[1;32mc:\\Users\\lapen\\anaconda3\\lib\\site-packages\\sklearn\\pipeline.py\u001b[0m in \u001b[0;36mfit\u001b[1;34m(self, X, y, **fit_params)\u001b[0m\n\u001b[0;32m    376\u001b[0m         \"\"\"\n\u001b[0;32m    377\u001b[0m         \u001b[0mfit_params_steps\u001b[0m \u001b[1;33m=\u001b[0m \u001b[0mself\u001b[0m\u001b[1;33m.\u001b[0m\u001b[0m_check_fit_params\u001b[0m\u001b[1;33m(\u001b[0m\u001b[1;33m**\u001b[0m\u001b[0mfit_params\u001b[0m\u001b[1;33m)\u001b[0m\u001b[1;33m\u001b[0m\u001b[1;33m\u001b[0m\u001b[0m\n\u001b[1;32m--> 378\u001b[1;33m         \u001b[0mXt\u001b[0m \u001b[1;33m=\u001b[0m \u001b[0mself\u001b[0m\u001b[1;33m.\u001b[0m\u001b[0m_fit\u001b[0m\u001b[1;33m(\u001b[0m\u001b[0mX\u001b[0m\u001b[1;33m,\u001b[0m \u001b[0my\u001b[0m\u001b[1;33m,\u001b[0m \u001b[1;33m**\u001b[0m\u001b[0mfit_params_steps\u001b[0m\u001b[1;33m)\u001b[0m\u001b[1;33m\u001b[0m\u001b[1;33m\u001b[0m\u001b[0m\n\u001b[0m\u001b[0;32m    379\u001b[0m         \u001b[1;32mwith\u001b[0m \u001b[0m_print_elapsed_time\u001b[0m\u001b[1;33m(\u001b[0m\u001b[1;34m\"Pipeline\"\u001b[0m\u001b[1;33m,\u001b[0m \u001b[0mself\u001b[0m\u001b[1;33m.\u001b[0m\u001b[0m_log_message\u001b[0m\u001b[1;33m(\u001b[0m\u001b[0mlen\u001b[0m\u001b[1;33m(\u001b[0m\u001b[0mself\u001b[0m\u001b[1;33m.\u001b[0m\u001b[0msteps\u001b[0m\u001b[1;33m)\u001b[0m \u001b[1;33m-\u001b[0m \u001b[1;36m1\u001b[0m\u001b[1;33m)\u001b[0m\u001b[1;33m)\u001b[0m\u001b[1;33m:\u001b[0m\u001b[1;33m\u001b[0m\u001b[1;33m\u001b[0m\u001b[0m\n\u001b[0;32m    380\u001b[0m             \u001b[1;32mif\u001b[0m \u001b[0mself\u001b[0m\u001b[1;33m.\u001b[0m\u001b[0m_final_estimator\u001b[0m \u001b[1;33m!=\u001b[0m \u001b[1;34m\"passthrough\"\u001b[0m\u001b[1;33m:\u001b[0m\u001b[1;33m\u001b[0m\u001b[1;33m\u001b[0m\u001b[0m\n",
      "\u001b[1;32mc:\\Users\\lapen\\anaconda3\\lib\\site-packages\\sklearn\\pipeline.py\u001b[0m in \u001b[0;36m_fit\u001b[1;34m(self, X, y, **fit_params_steps)\u001b[0m\n\u001b[0;32m    334\u001b[0m                 \u001b[0mcloned_transformer\u001b[0m \u001b[1;33m=\u001b[0m \u001b[0mclone\u001b[0m\u001b[1;33m(\u001b[0m\u001b[0mtransformer\u001b[0m\u001b[1;33m)\u001b[0m\u001b[1;33m\u001b[0m\u001b[1;33m\u001b[0m\u001b[0m\n\u001b[0;32m    335\u001b[0m             \u001b[1;31m# Fit or load from cache the current transformer\u001b[0m\u001b[1;33m\u001b[0m\u001b[1;33m\u001b[0m\u001b[0m\n\u001b[1;32m--> 336\u001b[1;33m             X, fitted_transformer = fit_transform_one_cached(\n\u001b[0m\u001b[0;32m    337\u001b[0m                 \u001b[0mcloned_transformer\u001b[0m\u001b[1;33m,\u001b[0m\u001b[1;33m\u001b[0m\u001b[1;33m\u001b[0m\u001b[0m\n\u001b[0;32m    338\u001b[0m                 \u001b[0mX\u001b[0m\u001b[1;33m,\u001b[0m\u001b[1;33m\u001b[0m\u001b[1;33m\u001b[0m\u001b[0m\n",
      "\u001b[1;32mc:\\Users\\lapen\\anaconda3\\lib\\site-packages\\joblib\\memory.py\u001b[0m in \u001b[0;36m__call__\u001b[1;34m(self, *args, **kwargs)\u001b[0m\n\u001b[0;32m    347\u001b[0m \u001b[1;33m\u001b[0m\u001b[0m\n\u001b[0;32m    348\u001b[0m     \u001b[1;32mdef\u001b[0m \u001b[0m__call__\u001b[0m\u001b[1;33m(\u001b[0m\u001b[0mself\u001b[0m\u001b[1;33m,\u001b[0m \u001b[1;33m*\u001b[0m\u001b[0margs\u001b[0m\u001b[1;33m,\u001b[0m \u001b[1;33m**\u001b[0m\u001b[0mkwargs\u001b[0m\u001b[1;33m)\u001b[0m\u001b[1;33m:\u001b[0m\u001b[1;33m\u001b[0m\u001b[1;33m\u001b[0m\u001b[0m\n\u001b[1;32m--> 349\u001b[1;33m         \u001b[1;32mreturn\u001b[0m \u001b[0mself\u001b[0m\u001b[1;33m.\u001b[0m\u001b[0mfunc\u001b[0m\u001b[1;33m(\u001b[0m\u001b[1;33m*\u001b[0m\u001b[0margs\u001b[0m\u001b[1;33m,\u001b[0m \u001b[1;33m**\u001b[0m\u001b[0mkwargs\u001b[0m\u001b[1;33m)\u001b[0m\u001b[1;33m\u001b[0m\u001b[1;33m\u001b[0m\u001b[0m\n\u001b[0m\u001b[0;32m    350\u001b[0m \u001b[1;33m\u001b[0m\u001b[0m\n\u001b[0;32m    351\u001b[0m     \u001b[1;32mdef\u001b[0m \u001b[0mcall_and_shelve\u001b[0m\u001b[1;33m(\u001b[0m\u001b[0mself\u001b[0m\u001b[1;33m,\u001b[0m \u001b[1;33m*\u001b[0m\u001b[0margs\u001b[0m\u001b[1;33m,\u001b[0m \u001b[1;33m**\u001b[0m\u001b[0mkwargs\u001b[0m\u001b[1;33m)\u001b[0m\u001b[1;33m:\u001b[0m\u001b[1;33m\u001b[0m\u001b[1;33m\u001b[0m\u001b[0m\n",
      "\u001b[1;32mc:\\Users\\lapen\\anaconda3\\lib\\site-packages\\sklearn\\pipeline.py\u001b[0m in \u001b[0;36m_fit_transform_one\u001b[1;34m(transformer, X, y, weight, message_clsname, message, **fit_params)\u001b[0m\n\u001b[0;32m    868\u001b[0m     \u001b[1;32mwith\u001b[0m \u001b[0m_print_elapsed_time\u001b[0m\u001b[1;33m(\u001b[0m\u001b[0mmessage_clsname\u001b[0m\u001b[1;33m,\u001b[0m \u001b[0mmessage\u001b[0m\u001b[1;33m)\u001b[0m\u001b[1;33m:\u001b[0m\u001b[1;33m\u001b[0m\u001b[1;33m\u001b[0m\u001b[0m\n\u001b[0;32m    869\u001b[0m         \u001b[1;32mif\u001b[0m \u001b[0mhasattr\u001b[0m\u001b[1;33m(\u001b[0m\u001b[0mtransformer\u001b[0m\u001b[1;33m,\u001b[0m \u001b[1;34m\"fit_transform\"\u001b[0m\u001b[1;33m)\u001b[0m\u001b[1;33m:\u001b[0m\u001b[1;33m\u001b[0m\u001b[1;33m\u001b[0m\u001b[0m\n\u001b[1;32m--> 870\u001b[1;33m             \u001b[0mres\u001b[0m \u001b[1;33m=\u001b[0m \u001b[0mtransformer\u001b[0m\u001b[1;33m.\u001b[0m\u001b[0mfit_transform\u001b[0m\u001b[1;33m(\u001b[0m\u001b[0mX\u001b[0m\u001b[1;33m,\u001b[0m \u001b[0my\u001b[0m\u001b[1;33m,\u001b[0m \u001b[1;33m**\u001b[0m\u001b[0mfit_params\u001b[0m\u001b[1;33m)\u001b[0m\u001b[1;33m\u001b[0m\u001b[1;33m\u001b[0m\u001b[0m\n\u001b[0m\u001b[0;32m    871\u001b[0m         \u001b[1;32melse\u001b[0m\u001b[1;33m:\u001b[0m\u001b[1;33m\u001b[0m\u001b[1;33m\u001b[0m\u001b[0m\n\u001b[0;32m    872\u001b[0m             \u001b[0mres\u001b[0m \u001b[1;33m=\u001b[0m \u001b[0mtransformer\u001b[0m\u001b[1;33m.\u001b[0m\u001b[0mfit\u001b[0m\u001b[1;33m(\u001b[0m\u001b[0mX\u001b[0m\u001b[1;33m,\u001b[0m \u001b[0my\u001b[0m\u001b[1;33m,\u001b[0m \u001b[1;33m**\u001b[0m\u001b[0mfit_params\u001b[0m\u001b[1;33m)\u001b[0m\u001b[1;33m.\u001b[0m\u001b[0mtransform\u001b[0m\u001b[1;33m(\u001b[0m\u001b[0mX\u001b[0m\u001b[1;33m)\u001b[0m\u001b[1;33m\u001b[0m\u001b[1;33m\u001b[0m\u001b[0m\n",
      "\u001b[1;32mc:\\Users\\lapen\\anaconda3\\lib\\site-packages\\sklearn\\pipeline.py\u001b[0m in \u001b[0;36mfit_transform\u001b[1;34m(self, X, y, **fit_params)\u001b[0m\n\u001b[0;32m    420\u001b[0m             \u001b[0mfit_params_last_step\u001b[0m \u001b[1;33m=\u001b[0m \u001b[0mfit_params_steps\u001b[0m\u001b[1;33m[\u001b[0m\u001b[0mself\u001b[0m\u001b[1;33m.\u001b[0m\u001b[0msteps\u001b[0m\u001b[1;33m[\u001b[0m\u001b[1;33m-\u001b[0m\u001b[1;36m1\u001b[0m\u001b[1;33m]\u001b[0m\u001b[1;33m[\u001b[0m\u001b[1;36m0\u001b[0m\u001b[1;33m]\u001b[0m\u001b[1;33m]\u001b[0m\u001b[1;33m\u001b[0m\u001b[1;33m\u001b[0m\u001b[0m\n\u001b[0;32m    421\u001b[0m             \u001b[1;32mif\u001b[0m \u001b[0mhasattr\u001b[0m\u001b[1;33m(\u001b[0m\u001b[0mlast_step\u001b[0m\u001b[1;33m,\u001b[0m \u001b[1;34m\"fit_transform\"\u001b[0m\u001b[1;33m)\u001b[0m\u001b[1;33m:\u001b[0m\u001b[1;33m\u001b[0m\u001b[1;33m\u001b[0m\u001b[0m\n\u001b[1;32m--> 422\u001b[1;33m                 \u001b[1;32mreturn\u001b[0m \u001b[0mlast_step\u001b[0m\u001b[1;33m.\u001b[0m\u001b[0mfit_transform\u001b[0m\u001b[1;33m(\u001b[0m\u001b[0mXt\u001b[0m\u001b[1;33m,\u001b[0m \u001b[0my\u001b[0m\u001b[1;33m,\u001b[0m \u001b[1;33m**\u001b[0m\u001b[0mfit_params_last_step\u001b[0m\u001b[1;33m)\u001b[0m\u001b[1;33m\u001b[0m\u001b[1;33m\u001b[0m\u001b[0m\n\u001b[0m\u001b[0;32m    423\u001b[0m             \u001b[1;32melse\u001b[0m\u001b[1;33m:\u001b[0m\u001b[1;33m\u001b[0m\u001b[1;33m\u001b[0m\u001b[0m\n\u001b[0;32m    424\u001b[0m                 \u001b[1;32mreturn\u001b[0m \u001b[0mlast_step\u001b[0m\u001b[1;33m.\u001b[0m\u001b[0mfit\u001b[0m\u001b[1;33m(\u001b[0m\u001b[0mXt\u001b[0m\u001b[1;33m,\u001b[0m \u001b[0my\u001b[0m\u001b[1;33m,\u001b[0m \u001b[1;33m**\u001b[0m\u001b[0mfit_params_last_step\u001b[0m\u001b[1;33m)\u001b[0m\u001b[1;33m.\u001b[0m\u001b[0mtransform\u001b[0m\u001b[1;33m(\u001b[0m\u001b[0mXt\u001b[0m\u001b[1;33m)\u001b[0m\u001b[1;33m\u001b[0m\u001b[1;33m\u001b[0m\u001b[0m\n",
      "\u001b[1;32mc:\\Users\\lapen\\anaconda3\\lib\\site-packages\\sklearn\\pipeline.py\u001b[0m in \u001b[0;36mfit_transform\u001b[1;34m(self, X, y, **fit_params)\u001b[0m\n\u001b[0;32m    412\u001b[0m         \"\"\"\n\u001b[0;32m    413\u001b[0m         \u001b[0mfit_params_steps\u001b[0m \u001b[1;33m=\u001b[0m \u001b[0mself\u001b[0m\u001b[1;33m.\u001b[0m\u001b[0m_check_fit_params\u001b[0m\u001b[1;33m(\u001b[0m\u001b[1;33m**\u001b[0m\u001b[0mfit_params\u001b[0m\u001b[1;33m)\u001b[0m\u001b[1;33m\u001b[0m\u001b[1;33m\u001b[0m\u001b[0m\n\u001b[1;32m--> 414\u001b[1;33m         \u001b[0mXt\u001b[0m \u001b[1;33m=\u001b[0m \u001b[0mself\u001b[0m\u001b[1;33m.\u001b[0m\u001b[0m_fit\u001b[0m\u001b[1;33m(\u001b[0m\u001b[0mX\u001b[0m\u001b[1;33m,\u001b[0m \u001b[0my\u001b[0m\u001b[1;33m,\u001b[0m \u001b[1;33m**\u001b[0m\u001b[0mfit_params_steps\u001b[0m\u001b[1;33m)\u001b[0m\u001b[1;33m\u001b[0m\u001b[1;33m\u001b[0m\u001b[0m\n\u001b[0m\u001b[0;32m    415\u001b[0m \u001b[1;33m\u001b[0m\u001b[0m\n\u001b[0;32m    416\u001b[0m         \u001b[0mlast_step\u001b[0m \u001b[1;33m=\u001b[0m \u001b[0mself\u001b[0m\u001b[1;33m.\u001b[0m\u001b[0m_final_estimator\u001b[0m\u001b[1;33m\u001b[0m\u001b[1;33m\u001b[0m\u001b[0m\n",
      "\u001b[1;32mc:\\Users\\lapen\\anaconda3\\lib\\site-packages\\sklearn\\pipeline.py\u001b[0m in \u001b[0;36m_fit\u001b[1;34m(self, X, y, **fit_params_steps)\u001b[0m\n\u001b[0;32m    314\u001b[0m         \u001b[1;31m# shallow copy of steps - this should really be steps_\u001b[0m\u001b[1;33m\u001b[0m\u001b[1;33m\u001b[0m\u001b[0m\n\u001b[0;32m    315\u001b[0m         \u001b[0mself\u001b[0m\u001b[1;33m.\u001b[0m\u001b[0msteps\u001b[0m \u001b[1;33m=\u001b[0m \u001b[0mlist\u001b[0m\u001b[1;33m(\u001b[0m\u001b[0mself\u001b[0m\u001b[1;33m.\u001b[0m\u001b[0msteps\u001b[0m\u001b[1;33m)\u001b[0m\u001b[1;33m\u001b[0m\u001b[1;33m\u001b[0m\u001b[0m\n\u001b[1;32m--> 316\u001b[1;33m         \u001b[0mself\u001b[0m\u001b[1;33m.\u001b[0m\u001b[0m_validate_steps\u001b[0m\u001b[1;33m(\u001b[0m\u001b[1;33m)\u001b[0m\u001b[1;33m\u001b[0m\u001b[1;33m\u001b[0m\u001b[0m\n\u001b[0m\u001b[0;32m    317\u001b[0m         \u001b[1;31m# Setup the memory\u001b[0m\u001b[1;33m\u001b[0m\u001b[1;33m\u001b[0m\u001b[0m\n\u001b[0;32m    318\u001b[0m         \u001b[0mmemory\u001b[0m \u001b[1;33m=\u001b[0m \u001b[0mcheck_memory\u001b[0m\u001b[1;33m(\u001b[0m\u001b[0mself\u001b[0m\u001b[1;33m.\u001b[0m\u001b[0mmemory\u001b[0m\u001b[1;33m)\u001b[0m\u001b[1;33m\u001b[0m\u001b[1;33m\u001b[0m\u001b[0m\n",
      "\u001b[1;32mc:\\Users\\lapen\\anaconda3\\lib\\site-packages\\sklearn\\pipeline.py\u001b[0m in \u001b[0;36m_validate_steps\u001b[1;34m(self)\u001b[0m\n\u001b[0;32m    218\u001b[0m             \u001b[1;32mand\u001b[0m \u001b[1;32mnot\u001b[0m \u001b[0mhasattr\u001b[0m\u001b[1;33m(\u001b[0m\u001b[0mestimator\u001b[0m\u001b[1;33m,\u001b[0m \u001b[1;34m\"fit\"\u001b[0m\u001b[1;33m)\u001b[0m\u001b[1;33m\u001b[0m\u001b[1;33m\u001b[0m\u001b[0m\n\u001b[0;32m    219\u001b[0m         ):\n\u001b[1;32m--> 220\u001b[1;33m             raise TypeError(\n\u001b[0m\u001b[0;32m    221\u001b[0m                 \u001b[1;34m\"Last step of Pipeline should implement fit \"\u001b[0m\u001b[1;33m\u001b[0m\u001b[1;33m\u001b[0m\u001b[0m\n\u001b[0;32m    222\u001b[0m                 \u001b[1;34m\"or be the string 'passthrough'. \"\u001b[0m\u001b[1;33m\u001b[0m\u001b[1;33m\u001b[0m\u001b[0m\n",
      "\u001b[1;31mTypeError\u001b[0m: Last step of Pipeline should implement fit or be the string 'passthrough'. '<class 'functions.shiftTime'>' (type <class 'type'>) doesn't"
     ]
    }
   ],
   "source": [
    "model = pipeline.fit(x_train, y_train)"
   ]
  },
  {
   "cell_type": "code",
   "execution_count": null,
   "metadata": {},
   "outputs": [
    {
     "data": {
      "text/plain": [
       "array([519.93165419, 515.13765257, 513.43882744, 509.15958829,\n",
       "       518.98343066, 519.6159568 , 518.85444129, 524.18338946,\n",
       "       543.05446233, 545.52773089, 552.04683535, 552.87154219,\n",
       "       548.64361163, 551.22719768, 560.0288754 , 564.72025031,\n",
       "       565.30277002, 586.97499446, 595.98236645, 588.64534604,\n",
       "       609.76586392, 607.00241193, 601.03251326, 603.81094813,\n",
       "       586.08609811, 579.46222098, 581.21259912, 581.68498377,\n",
       "       584.28674858, 575.88939991, 574.15661451, 592.70994258,\n",
       "       596.41803448, 585.8720597 , 583.83602992, 590.61540794,\n",
       "       605.24655719, 616.94365526, 607.67219355, 609.00264032,\n",
       "       634.19331011, 636.22448775, 636.62859174, 639.35254031,\n",
       "       633.14548375, 628.04036079, 624.15526084, 631.66569137,\n",
       "       628.96131212, 628.11405196, 636.50431317, 628.54073504,\n",
       "       649.16887027, 662.87655082, 668.30656577, 667.2202547 ,\n",
       "       665.22742723, 673.32113031, 686.15760684, 679.81269752,\n",
       "       679.40645008, 687.06514894, 669.746172  , 650.30058544,\n",
       "       649.7523842 , 656.66527163, 650.31887563, 662.47364379,\n",
       "       674.11390313, 676.72907113, 685.32738865, 695.78036507,\n",
       "       682.23849993, 680.03524645, 663.3387441 , 655.27602414,\n",
       "       655.27685235, 664.75168693, 663.14787339, 651.75800063,\n",
       "       627.98272073, 620.47075276, 602.28744005, 611.23963643,\n",
       "       620.54050289, 626.5880726 , 616.18850008, 608.92522993,\n",
       "       602.64357607, 593.26505768, 593.51758947, 594.58993834,\n",
       "       585.14528703, 598.14252479, 603.00974469, 612.11483649,\n",
       "       609.78494888, 610.42234418, 613.58835051, 608.59047614,\n",
       "       617.79695881, 607.02427902, 597.29763865, 585.86355962,\n",
       "       572.87410271, 552.01161533, 543.8647782 , 533.17724142,\n",
       "       537.2225775 , 534.63992565, 525.32730126, 530.12003176,\n",
       "       512.5034879 , 518.21855335, 516.53517861, 391.60894865,\n",
       "       361.250064  , 375.27844028, 364.97505895, 389.52281691,\n",
       "       375.55261043, 420.1890427 , 448.10316749, 434.25845179,\n",
       "       414.44826397, 403.51452485, 399.00184888, 403.37553475,\n",
       "       404.56957992, 402.55515536, 396.68446989, 404.99916368,\n",
       "       406.13640908, 392.91962198, 391.64893492, 398.39650944,\n",
       "       379.39377121, 372.91119773, 384.12675552, 381.90640912,\n",
       "       391.91193473, 388.3179204 , 378.5161408 , 369.44042732,\n",
       "       365.22021336, 353.8487335 , 350.20592671, 357.49102009,\n",
       "       362.94584588, 346.4514134 , 334.03424542, 341.53488   ,\n",
       "       353.98661205, 367.21807966, 377.40905928, 374.14579398,\n",
       "       380.5602858 , 377.98060537, 371.37640721, 369.32963088,\n",
       "       372.84187948, 391.26619711, 383.69026198, 376.23488661,\n",
       "       373.76527647, 391.77321582, 380.5926546 , 367.22715517,\n",
       "       359.17122016, 357.005205  , 350.32538726, 348.20400922,\n",
       "       348.55628008, 343.26942959, 335.53382825, 348.52957277,\n",
       "       222.61362169, 219.9282841 , 217.50235703, 209.13903498,\n",
       "       201.12770266, 194.48926437, 195.32360495, 197.11131178,\n",
       "       197.661581  , 199.86726702, 198.26341609, 189.61626444,\n",
       "       178.85299136, 178.31786374, 176.86757328, 172.08697648,\n",
       "       174.47063475, 185.27849613, 189.76410277, 188.18162201,\n",
       "       179.62933254, 183.29615438, 184.93290315, 181.215156  ,\n",
       "       180.17058069, 187.56104214, 188.93629111, 192.99128359,\n",
       "       195.36053229, 196.79114159, 203.12211639, 201.12202945,\n",
       "       198.58981336, 197.60156043, 205.75039507, 195.44102591,\n",
       "       184.20309255, 172.67265463, 167.67381202, 180.96234078,\n",
       "       174.27139852, 178.6608227 , 172.62590988, 180.53037142,\n",
       "       179.03513689, 188.81701546, 184.71829566, 184.24215277,\n",
       "       177.29724453, 174.02168687, 178.032671  , 181.66673295,\n",
       "       182.91664083, 188.85619278, 186.95922293, 179.10059894,\n",
       "       176.59405575, 177.31290576, 174.55549427, 186.27204075,\n",
       "       196.56319419, 197.02750898, 209.32389324, 220.59789401,\n",
       "       225.27851617, 220.91035954, 215.24357559, 224.53322127,\n",
       "       223.88208914, 228.9967262 , 226.07955602, 226.0356481 ,\n",
       "       225.93719522, 229.50238186, 226.40684749])"
      ]
     },
     "execution_count": 54,
     "metadata": {},
     "output_type": "execute_result"
    }
   ],
   "source": [
    "model.predict(x_test)"
   ]
  },
  {
   "cell_type": "code",
   "execution_count": null,
   "metadata": {},
   "outputs": [],
   "source": [
    "mean_squared_error"
   ]
  },
  {
   "cell_type": "code",
   "execution_count": null,
   "metadata": {},
   "outputs": [
    {
     "data": {
      "text/html": [
       "<div>\n",
       "<style scoped>\n",
       "    .dataframe tbody tr th:only-of-type {\n",
       "        vertical-align: middle;\n",
       "    }\n",
       "\n",
       "    .dataframe tbody tr th {\n",
       "        vertical-align: top;\n",
       "    }\n",
       "\n",
       "    .dataframe thead th {\n",
       "        text-align: right;\n",
       "    }\n",
       "</style>\n",
       "<table border=\"1\" class=\"dataframe\">\n",
       "  <thead>\n",
       "    <tr style=\"text-align: right;\">\n",
       "      <th></th>\n",
       "      <th>nflx_High</th>\n",
       "      <th>nflx_Low</th>\n",
       "      <th>nflx_Open</th>\n",
       "      <th>nflx_Close</th>\n",
       "      <th>nflx_Volume</th>\n",
       "      <th>nflx_Adj Close</th>\n",
       "      <th>gspc_High</th>\n",
       "      <th>gspc_Low</th>\n",
       "      <th>gspc_Open</th>\n",
       "      <th>gspc_Close</th>\n",
       "      <th>gspc_Volume</th>\n",
       "      <th>gspc_Adj Close</th>\n",
       "    </tr>\n",
       "    <tr>\n",
       "      <th>Date</th>\n",
       "      <th></th>\n",
       "      <th></th>\n",
       "      <th></th>\n",
       "      <th></th>\n",
       "      <th></th>\n",
       "      <th></th>\n",
       "      <th></th>\n",
       "      <th></th>\n",
       "      <th></th>\n",
       "      <th></th>\n",
       "      <th></th>\n",
       "      <th></th>\n",
       "    </tr>\n",
       "  </thead>\n",
       "  <tbody>\n",
       "    <tr>\n",
       "      <th>2017-08-07</th>\n",
       "      <td>182.270004</td>\n",
       "      <td>179.100006</td>\n",
       "      <td>181.000000</td>\n",
       "      <td>181.330002</td>\n",
       "      <td>4609800</td>\n",
       "      <td>181.330002</td>\n",
       "      <td>2480.949951</td>\n",
       "      <td>2475.879883</td>\n",
       "      <td>2477.139893</td>\n",
       "      <td>2480.909912</td>\n",
       "      <td>2931780000</td>\n",
       "      <td>2480.909912</td>\n",
       "    </tr>\n",
       "    <tr>\n",
       "      <th>2017-08-08</th>\n",
       "      <td>181.910004</td>\n",
       "      <td>177.449997</td>\n",
       "      <td>181.369995</td>\n",
       "      <td>178.360001</td>\n",
       "      <td>6104000</td>\n",
       "      <td>178.360001</td>\n",
       "      <td>2490.870117</td>\n",
       "      <td>2470.320068</td>\n",
       "      <td>2478.350098</td>\n",
       "      <td>2474.919922</td>\n",
       "      <td>3344640000</td>\n",
       "      <td>2474.919922</td>\n",
       "    </tr>\n",
       "    <tr>\n",
       "      <th>2017-08-09</th>\n",
       "      <td>175.960007</td>\n",
       "      <td>170.009995</td>\n",
       "      <td>171.429993</td>\n",
       "      <td>175.779999</td>\n",
       "      <td>9670500</td>\n",
       "      <td>175.779999</td>\n",
       "      <td>2474.409912</td>\n",
       "      <td>2462.080078</td>\n",
       "      <td>2465.350098</td>\n",
       "      <td>2474.020020</td>\n",
       "      <td>3308060000</td>\n",
       "      <td>2474.020020</td>\n",
       "    </tr>\n",
       "    <tr>\n",
       "      <th>2017-08-10</th>\n",
       "      <td>174.449997</td>\n",
       "      <td>167.600006</td>\n",
       "      <td>174.029999</td>\n",
       "      <td>169.139999</td>\n",
       "      <td>9693100</td>\n",
       "      <td>169.139999</td>\n",
       "      <td>2465.379883</td>\n",
       "      <td>2437.750000</td>\n",
       "      <td>2465.379883</td>\n",
       "      <td>2438.209961</td>\n",
       "      <td>3621070000</td>\n",
       "      <td>2438.209961</td>\n",
       "    </tr>\n",
       "    <tr>\n",
       "      <th>2017-08-11</th>\n",
       "      <td>172.580002</td>\n",
       "      <td>169.000000</td>\n",
       "      <td>169.860001</td>\n",
       "      <td>171.399994</td>\n",
       "      <td>5022300</td>\n",
       "      <td>171.399994</td>\n",
       "      <td>2448.090088</td>\n",
       "      <td>2437.850098</td>\n",
       "      <td>2441.040039</td>\n",
       "      <td>2441.320068</td>\n",
       "      <td>3159930000</td>\n",
       "      <td>2441.320068</td>\n",
       "    </tr>\n",
       "    <tr>\n",
       "      <th>...</th>\n",
       "      <td>...</td>\n",
       "      <td>...</td>\n",
       "      <td>...</td>\n",
       "      <td>...</td>\n",
       "      <td>...</td>\n",
       "      <td>...</td>\n",
       "      <td>...</td>\n",
       "      <td>...</td>\n",
       "      <td>...</td>\n",
       "      <td>...</td>\n",
       "      <td>...</td>\n",
       "      <td>...</td>\n",
       "    </tr>\n",
       "    <tr>\n",
       "      <th>2021-08-02</th>\n",
       "      <td>519.849976</td>\n",
       "      <td>510.510010</td>\n",
       "      <td>519.000000</td>\n",
       "      <td>515.150024</td>\n",
       "      <td>2096600</td>\n",
       "      <td>515.150024</td>\n",
       "      <td>4422.180176</td>\n",
       "      <td>4384.810059</td>\n",
       "      <td>4406.859863</td>\n",
       "      <td>4387.160156</td>\n",
       "      <td>2919940000</td>\n",
       "      <td>4387.160156</td>\n",
       "    </tr>\n",
       "    <tr>\n",
       "      <th>2021-08-03</th>\n",
       "      <td>515.630005</td>\n",
       "      <td>505.369995</td>\n",
       "      <td>514.390015</td>\n",
       "      <td>510.820007</td>\n",
       "      <td>2579400</td>\n",
       "      <td>510.820007</td>\n",
       "      <td>4423.790039</td>\n",
       "      <td>4373.000000</td>\n",
       "      <td>4392.740234</td>\n",
       "      <td>4423.149902</td>\n",
       "      <td>3305340000</td>\n",
       "      <td>4423.149902</td>\n",
       "    </tr>\n",
       "    <tr>\n",
       "      <th>2021-08-04</th>\n",
       "      <td>517.979980</td>\n",
       "      <td>510.369995</td>\n",
       "      <td>513.000000</td>\n",
       "      <td>517.349976</td>\n",
       "      <td>2039400</td>\n",
       "      <td>517.349976</td>\n",
       "      <td>4416.169922</td>\n",
       "      <td>4400.229980</td>\n",
       "      <td>4415.950195</td>\n",
       "      <td>4402.660156</td>\n",
       "      <td>3382620000</td>\n",
       "      <td>4402.660156</td>\n",
       "    </tr>\n",
       "    <tr>\n",
       "      <th>2021-08-05</th>\n",
       "      <td>525.409973</td>\n",
       "      <td>514.020020</td>\n",
       "      <td>517.130005</td>\n",
       "      <td>524.890015</td>\n",
       "      <td>2556700</td>\n",
       "      <td>524.890015</td>\n",
       "      <td>4429.759766</td>\n",
       "      <td>4408.859863</td>\n",
       "      <td>4408.859863</td>\n",
       "      <td>4429.100098</td>\n",
       "      <td>2734220000</td>\n",
       "      <td>4429.100098</td>\n",
       "    </tr>\n",
       "    <tr>\n",
       "      <th>2021-08-06</th>\n",
       "      <td>526.840027</td>\n",
       "      <td>519.390015</td>\n",
       "      <td>524.000000</td>\n",
       "      <td>520.549988</td>\n",
       "      <td>1919800</td>\n",
       "      <td>520.549988</td>\n",
       "      <td>4440.819824</td>\n",
       "      <td>4429.069824</td>\n",
       "      <td>4429.069824</td>\n",
       "      <td>4436.520020</td>\n",
       "      <td>2839970000</td>\n",
       "      <td>4436.520020</td>\n",
       "    </tr>\n",
       "  </tbody>\n",
       "</table>\n",
       "<p>1008 rows × 12 columns</p>\n",
       "</div>"
      ],
      "text/plain": [
       "             nflx_High    nflx_Low   nflx_Open  nflx_Close  nflx_Volume  \\\n",
       "Date                                                                      \n",
       "2017-08-07  182.270004  179.100006  181.000000  181.330002      4609800   \n",
       "2017-08-08  181.910004  177.449997  181.369995  178.360001      6104000   \n",
       "2017-08-09  175.960007  170.009995  171.429993  175.779999      9670500   \n",
       "2017-08-10  174.449997  167.600006  174.029999  169.139999      9693100   \n",
       "2017-08-11  172.580002  169.000000  169.860001  171.399994      5022300   \n",
       "...                ...         ...         ...         ...          ...   \n",
       "2021-08-02  519.849976  510.510010  519.000000  515.150024      2096600   \n",
       "2021-08-03  515.630005  505.369995  514.390015  510.820007      2579400   \n",
       "2021-08-04  517.979980  510.369995  513.000000  517.349976      2039400   \n",
       "2021-08-05  525.409973  514.020020  517.130005  524.890015      2556700   \n",
       "2021-08-06  526.840027  519.390015  524.000000  520.549988      1919800   \n",
       "\n",
       "            nflx_Adj Close    gspc_High     gspc_Low    gspc_Open  \\\n",
       "Date                                                                \n",
       "2017-08-07      181.330002  2480.949951  2475.879883  2477.139893   \n",
       "2017-08-08      178.360001  2490.870117  2470.320068  2478.350098   \n",
       "2017-08-09      175.779999  2474.409912  2462.080078  2465.350098   \n",
       "2017-08-10      169.139999  2465.379883  2437.750000  2465.379883   \n",
       "2017-08-11      171.399994  2448.090088  2437.850098  2441.040039   \n",
       "...                    ...          ...          ...          ...   \n",
       "2021-08-02      515.150024  4422.180176  4384.810059  4406.859863   \n",
       "2021-08-03      510.820007  4423.790039  4373.000000  4392.740234   \n",
       "2021-08-04      517.349976  4416.169922  4400.229980  4415.950195   \n",
       "2021-08-05      524.890015  4429.759766  4408.859863  4408.859863   \n",
       "2021-08-06      520.549988  4440.819824  4429.069824  4429.069824   \n",
       "\n",
       "             gspc_Close  gspc_Volume  gspc_Adj Close  \n",
       "Date                                                  \n",
       "2017-08-07  2480.909912   2931780000     2480.909912  \n",
       "2017-08-08  2474.919922   3344640000     2474.919922  \n",
       "2017-08-09  2474.020020   3308060000     2474.020020  \n",
       "2017-08-10  2438.209961   3621070000     2438.209961  \n",
       "2017-08-11  2441.320068   3159930000     2441.320068  \n",
       "...                 ...          ...             ...  \n",
       "2021-08-02  4387.160156   2919940000     4387.160156  \n",
       "2021-08-03  4423.149902   3305340000     4423.149902  \n",
       "2021-08-04  4402.660156   3382620000     4402.660156  \n",
       "2021-08-05  4429.100098   2734220000     4429.100098  \n",
       "2021-08-06  4436.520020   2839970000     4436.520020  \n",
       "\n",
       "[1008 rows x 12 columns]"
      ]
     },
     "execution_count": 29,
     "metadata": {},
     "output_type": "execute_result"
    }
   ],
   "source": [
    "train"
   ]
  },
  {
   "cell_type": "code",
   "execution_count": null,
   "metadata": {},
   "outputs": [],
   "source": []
  }
 ],
 "metadata": {
  "kernelspec": {
   "display_name": "Python 3.9.7 ('base')",
   "language": "python",
   "name": "python3"
  },
  "language_info": {
   "codemirror_mode": {
    "name": "ipython",
    "version": 3
   },
   "file_extension": ".py",
   "mimetype": "text/x-python",
   "name": "python",
   "nbconvert_exporter": "python",
   "pygments_lexer": "ipython3",
   "version": "3.9.7"
  },
  "orig_nbformat": 4,
  "vscode": {
   "interpreter": {
    "hash": "48f1e5342cf8a6c153dbe25f8f15edc1b1c2836d33c4cf2b2335313fcb64d162"
   }
  }
 },
 "nbformat": 4,
 "nbformat_minor": 2
}
