{
 "cells": [
  {
   "cell_type": "code",
   "execution_count": 22,
   "metadata": {},
   "outputs": [],
   "source": [
    "import pandas as pd\n",
    "import numpy as np\n",
    "\n",
    "# plotting\n",
    "import matplotlib.pyplot as plt\n",
    "import seaborn as sns\n",
    "from pandas.plotting import autocorrelation_plot\n",
    "sns.set_style(\"dark\")\n",
    "\n",
    "# Data preprocessing\n",
    "from sklearn.preprocessing import MinMaxScaler, StandardScaler\n",
    "from pandas_datareader.data import DataReader\n",
    "import datetime as dt\n",
    "\n",
    "# libraries for pipeline|\n",
    "from sklearn.preprocessing import FunctionTransformer, OneHotEncoder, StandardScaler, MinMaxScaler, RobustScaler, MaxAbsScaler\n",
    "from sklearn.feature_selection import SelectKBest, f_regression\n",
    "from sklearn.compose import ColumnTransformer\n",
    "from sklearn.pipeline import Pipeline, FeatureUnion\n",
    "from sklearn.impute import SimpleImputer\n",
    "from sklearn.decomposition import PCA\n",
    "\n",
    "\n",
    "#metrics\n",
    "from sklearn.metrics import mean_squared_error\n",
    "\n",
    "# Models to try\n",
    "from sklearn.linear_model import LinearRegression, SGDRegressor, Ridge\n",
    "from sklearn.ensemble import RandomForestRegressor\n",
    "from sklearn.svm import SVC\n",
    "\n",
    "# custom functions\n",
    "import functions"
   ]
  },
  {
   "cell_type": "markdown",
   "metadata": {},
   "source": [
    "# Market Data Gathering"
   ]
  },
  {
   "cell_type": "code",
   "execution_count": 2,
   "metadata": {},
   "outputs": [],
   "source": [
    "# Important dates\n",
    "start = dt.datetime(2017,8,6)\n",
    "end = dt.datetime(2022,8,6)\n"
   ]
  },
  {
   "cell_type": "code",
   "execution_count": 3,
   "metadata": {},
   "outputs": [],
   "source": [
    "# import data\n",
    "nflx = DataReader(\"NFLX\",  \"yahoo\", start, end)\n",
    "gspc = DataReader(\"^GSPC\", \"yahoo\", start, end)"
   ]
  },
  {
   "cell_type": "code",
   "execution_count": 4,
   "metadata": {},
   "outputs": [],
   "source": [
    "# concatenate stock and market data\n",
    "features = functions.concatRename(nflx, 'nflx_', gspc, 'gspc_')"
   ]
  },
  {
   "cell_type": "code",
   "execution_count": 5,
   "metadata": {},
   "outputs": [],
   "source": [
    "# remove test data from train\n",
    "train, test = functions.testSplit(features)"
   ]
  },
  {
   "cell_type": "markdown",
   "metadata": {},
   "source": [
    "# Feature Engineering"
   ]
  },
  {
   "cell_type": "code",
   "execution_count": 82,
   "metadata": {},
   "outputs": [],
   "source": [
    "# features we are keeping\n",
    "feature_cols = ['nflx_Adj Close', 'gspc_Adj Close', 'nflx_Volume']"
   ]
  },
  {
   "cell_type": "code",
   "execution_count": 83,
   "metadata": {},
   "outputs": [],
   "source": [
    "# Establish variables and target\n",
    "nflx_target = 'nflx_Adj Close'\n",
    "gspc_target = 'gspc_Adj Close'\n",
    "\n",
    "# Remove target variable\n",
    "# x_train = functions.dropTarget(train, nflx_target)\n",
    "# x_test = functions.dropTarget(test, nflx_target)\n",
    "x_train = train[feature_cols]\n",
    "x_test = test[feature_cols]\n",
    "y_train = train[nflx_target]\n",
    "y_test = test[nflx_target]"
   ]
  },
  {
   "cell_type": "code",
   "execution_count": 84,
   "metadata": {},
   "outputs": [],
   "source": [
    "# function transformers aren't working for pandas timeshift, storing them here for now.\n",
    "# # function transform nflx engineering functions\n",
    "# t_shiftTime = FunctionTransformer(functions.shiftTime)\n",
    "# t_rollingMeanShift = FunctionTransformer(functions.rollingMeanShift(train))\n",
    "# t_trendDiff = FunctionTransformer(functions.trendDiff(train))\n",
    "\n",
    "# # drop target variable\n",
    "# t_dropTarget = FunctionTransformer(functions.dropTarget)\n"
   ]
  },
  {
   "cell_type": "code",
   "execution_count": 85,
   "metadata": {},
   "outputs": [],
   "source": [
    "# feature_engineering = Pipeline([\n",
    "#     ('t_nflx_shiftTime', functions.shiftTime),\n",
    "#     # ('t_nflx_rollingMeanShift', t_rollingMeanShift),\n",
    "#     # ('t_nflx_trendDiff', t_trendDiff)\n",
    "#     ])"
   ]
  },
  {
   "cell_type": "code",
   "execution_count": 86,
   "metadata": {},
   "outputs": [],
   "source": [
    "# shift all values by one time step\n",
    "# train = functions.shiftTime(train, 3).dropna()"
   ]
  },
  {
   "cell_type": "code",
   "execution_count": 87,
   "metadata": {},
   "outputs": [
    {
     "name": "stdout",
     "output_type": "stream",
     "text": [
      "<class 'pandas.core.frame.DataFrame'>\n",
      "DatetimeIndex: 1008 entries, 2017-08-07 to 2021-08-06\n",
      "Data columns (total 12 columns):\n",
      " #   Column          Non-Null Count  Dtype  \n",
      "---  ------          --------------  -----  \n",
      " 0   nflx_High       1008 non-null   float64\n",
      " 1   nflx_Low        1008 non-null   float64\n",
      " 2   nflx_Open       1008 non-null   float64\n",
      " 3   nflx_Close      1008 non-null   float64\n",
      " 4   nflx_Volume     1008 non-null   int64  \n",
      " 5   nflx_Adj Close  1008 non-null   float64\n",
      " 6   gspc_High       1008 non-null   float64\n",
      " 7   gspc_Low        1008 non-null   float64\n",
      " 8   gspc_Open       1008 non-null   float64\n",
      " 9   gspc_Close      1008 non-null   float64\n",
      " 10  gspc_Volume     1008 non-null   int64  \n",
      " 11  gspc_Adj Close  1008 non-null   float64\n",
      "dtypes: float64(10), int64(2)\n",
      "memory usage: 102.4 KB\n"
     ]
    }
   ],
   "source": [
    "train.info()"
   ]
  },
  {
   "cell_type": "code",
   "execution_count": 109,
   "metadata": {},
   "outputs": [],
   "source": [
    "pipeline = Pipeline([\n",
    "    # ('feature_engineering', feature_engineering),\n",
    "    ('t_nflx_shiftTime', functions.shiftTime(rolling=7)),\n",
    "    ('Imputer', SimpleImputer()),\n",
    "    ('scaling', StandardScaler()),\n",
    "    # ('PCA', PCA(n_components=5)),\n",
    "    # ('selectKBest', SelectKBest(f_regression,k=2)),\n",
    "    ('classifier', Ridge()),\n",
    "    ])"
   ]
  },
  {
   "cell_type": "code",
   "execution_count": 110,
   "metadata": {},
   "outputs": [
    {
     "data": {
      "text/html": [
       "<style>#sk-container-id-12 {color: black;background-color: white;}#sk-container-id-12 pre{padding: 0;}#sk-container-id-12 div.sk-toggleable {background-color: white;}#sk-container-id-12 label.sk-toggleable__label {cursor: pointer;display: block;width: 100%;margin-bottom: 0;padding: 0.3em;box-sizing: border-box;text-align: center;}#sk-container-id-12 label.sk-toggleable__label-arrow:before {content: \"▸\";float: left;margin-right: 0.25em;color: #696969;}#sk-container-id-12 label.sk-toggleable__label-arrow:hover:before {color: black;}#sk-container-id-12 div.sk-estimator:hover label.sk-toggleable__label-arrow:before {color: black;}#sk-container-id-12 div.sk-toggleable__content {max-height: 0;max-width: 0;overflow: hidden;text-align: left;background-color: #f0f8ff;}#sk-container-id-12 div.sk-toggleable__content pre {margin: 0.2em;color: black;border-radius: 0.25em;background-color: #f0f8ff;}#sk-container-id-12 input.sk-toggleable__control:checked~div.sk-toggleable__content {max-height: 200px;max-width: 100%;overflow: auto;}#sk-container-id-12 input.sk-toggleable__control:checked~label.sk-toggleable__label-arrow:before {content: \"▾\";}#sk-container-id-12 div.sk-estimator input.sk-toggleable__control:checked~label.sk-toggleable__label {background-color: #d4ebff;}#sk-container-id-12 div.sk-label input.sk-toggleable__control:checked~label.sk-toggleable__label {background-color: #d4ebff;}#sk-container-id-12 input.sk-hidden--visually {border: 0;clip: rect(1px 1px 1px 1px);clip: rect(1px, 1px, 1px, 1px);height: 1px;margin: -1px;overflow: hidden;padding: 0;position: absolute;width: 1px;}#sk-container-id-12 div.sk-estimator {font-family: monospace;background-color: #f0f8ff;border: 1px dotted black;border-radius: 0.25em;box-sizing: border-box;margin-bottom: 0.5em;}#sk-container-id-12 div.sk-estimator:hover {background-color: #d4ebff;}#sk-container-id-12 div.sk-parallel-item::after {content: \"\";width: 100%;border-bottom: 1px solid gray;flex-grow: 1;}#sk-container-id-12 div.sk-label:hover label.sk-toggleable__label {background-color: #d4ebff;}#sk-container-id-12 div.sk-serial::before {content: \"\";position: absolute;border-left: 1px solid gray;box-sizing: border-box;top: 0;bottom: 0;left: 50%;z-index: 0;}#sk-container-id-12 div.sk-serial {display: flex;flex-direction: column;align-items: center;background-color: white;padding-right: 0.2em;padding-left: 0.2em;position: relative;}#sk-container-id-12 div.sk-item {position: relative;z-index: 1;}#sk-container-id-12 div.sk-parallel {display: flex;align-items: stretch;justify-content: center;background-color: white;position: relative;}#sk-container-id-12 div.sk-item::before, #sk-container-id-12 div.sk-parallel-item::before {content: \"\";position: absolute;border-left: 1px solid gray;box-sizing: border-box;top: 0;bottom: 0;left: 50%;z-index: -1;}#sk-container-id-12 div.sk-parallel-item {display: flex;flex-direction: column;z-index: 1;position: relative;background-color: white;}#sk-container-id-12 div.sk-parallel-item:first-child::after {align-self: flex-end;width: 50%;}#sk-container-id-12 div.sk-parallel-item:last-child::after {align-self: flex-start;width: 50%;}#sk-container-id-12 div.sk-parallel-item:only-child::after {width: 0;}#sk-container-id-12 div.sk-dashed-wrapped {border: 1px dashed gray;margin: 0 0.4em 0.5em 0.4em;box-sizing: border-box;padding-bottom: 0.4em;background-color: white;}#sk-container-id-12 div.sk-label label {font-family: monospace;font-weight: bold;display: inline-block;line-height: 1.2em;}#sk-container-id-12 div.sk-label-container {text-align: center;}#sk-container-id-12 div.sk-container {/* jupyter's `normalize.less` sets `[hidden] { display: none; }` but bootstrap.min.css set `[hidden] { display: none !important; }` so we also need the `!important` here to be able to override the default hidden behavior on the sphinx rendered scikit-learn.org. See: https://github.com/scikit-learn/scikit-learn/issues/21755 */display: inline-block !important;position: relative;}#sk-container-id-12 div.sk-text-repr-fallback {display: none;}</style><div id=\"sk-container-id-12\" class=\"sk-top-container\"><div class=\"sk-text-repr-fallback\"><pre>shiftTime(rolling=            nflx_Adj Close  gspc_Adj Close  nflx_Volume\n",
       "Date                                                   \n",
       "2017-08-07      181.330002     2480.909912      4609800\n",
       "2017-08-08      178.360001     2474.919922      6104000\n",
       "2017-08-09      175.779999     2474.020020      9670500\n",
       "2017-08-10      169.139999     2438.209961      9693100\n",
       "2017-08-11      171.399994     2441.320068      5022300\n",
       "...                    ...             ...          ...\n",
       "2021-08-02      515.150024     4387.160156      2096600\n",
       "2021-08-03      510.820007     4423.149902      2579400\n",
       "2021-08-04      517.349976     4402.660156      2039400\n",
       "2021-08-05      524.890015     4429.100098      2556700\n",
       "2021-08-06      520.549988     4436.520020      1919800\n",
       "\n",
       "[1008 rows x 3 columns])</pre><b>In a Jupyter environment, please rerun this cell to show the HTML representation or trust the notebook. <br />On GitHub, the HTML representation is unable to render, please try loading this page with nbviewer.org.</b></div><div class=\"sk-container\" hidden><div class=\"sk-item\"><div class=\"sk-estimator sk-toggleable\"><input class=\"sk-toggleable__control sk-hidden--visually\" id=\"sk-estimator-id-12\" type=\"checkbox\" checked><label for=\"sk-estimator-id-12\" class=\"sk-toggleable__label sk-toggleable__label-arrow\">shiftTime</label><div class=\"sk-toggleable__content\"><pre>shiftTime(rolling=            nflx_Adj Close  gspc_Adj Close  nflx_Volume\n",
       "Date                                                   \n",
       "2017-08-07      181.330002     2480.909912      4609800\n",
       "2017-08-08      178.360001     2474.919922      6104000\n",
       "2017-08-09      175.779999     2474.020020      9670500\n",
       "2017-08-10      169.139999     2438.209961      9693100\n",
       "2017-08-11      171.399994     2441.320068      5022300\n",
       "...                    ...             ...          ...\n",
       "2021-08-02      515.150024     4387.160156      2096600\n",
       "2021-08-03      510.820007     4423.149902      2579400\n",
       "2021-08-04      517.349976     4402.660156      2039400\n",
       "2021-08-05      524.890015     4429.100098      2556700\n",
       "2021-08-06      520.549988     4436.520020      1919800\n",
       "\n",
       "[1008 rows x 3 columns])</pre></div></div></div></div></div>"
      ],
      "text/plain": [
       "shiftTime(rolling=            nflx_Adj Close  gspc_Adj Close  nflx_Volume\n",
       "Date                                                   \n",
       "2017-08-07      181.330002     2480.909912      4609800\n",
       "2017-08-08      178.360001     2474.919922      6104000\n",
       "2017-08-09      175.779999     2474.020020      9670500\n",
       "2017-08-10      169.139999     2438.209961      9693100\n",
       "2017-08-11      171.399994     2441.320068      5022300\n",
       "...                    ...             ...          ...\n",
       "2021-08-02      515.150024     4387.160156      2096600\n",
       "2021-08-03      510.820007     4423.149902      2579400\n",
       "2021-08-04      517.349976     4402.660156      2039400\n",
       "2021-08-05      524.890015     4429.100098      2556700\n",
       "2021-08-06      520.549988     4436.520020      1919800\n",
       "\n",
       "[1008 rows x 3 columns])"
      ]
     },
     "execution_count": 110,
     "metadata": {},
     "output_type": "execute_result"
    }
   ],
   "source": [
    "functions.shiftTime(x_train)"
   ]
  },
  {
   "cell_type": "code",
   "execution_count": 111,
   "metadata": {},
   "outputs": [],
   "source": [
    "model = pipeline.fit(x_train, y_train)"
   ]
  },
  {
   "cell_type": "code",
   "execution_count": 112,
   "metadata": {},
   "outputs": [],
   "source": [
    "y_pred = model.predict(x_test)"
   ]
  },
  {
   "cell_type": "code",
   "execution_count": 113,
   "metadata": {},
   "outputs": [
    {
     "data": {
      "text/plain": [
       "302.9879690556053"
      ]
     },
     "execution_count": 113,
     "metadata": {},
     "output_type": "execute_result"
    }
   ],
   "source": [
    "mean_squared_error(y_test, y_pred)"
   ]
  },
  {
   "cell_type": "code",
   "execution_count": 114,
   "metadata": {},
   "outputs": [],
   "source": [
    "pred_df = pd.concat([y_test, pd.Series(y_pred, index=y_test.index)], axis=1)"
   ]
  },
  {
   "cell_type": "code",
   "execution_count": 115,
   "metadata": {},
   "outputs": [
    {
     "data": {
      "text/plain": [
       "<AxesSubplot:xlabel='Date'>"
      ]
     },
     "execution_count": 115,
     "metadata": {},
     "output_type": "execute_result"
    },
    {
     "data": {
      "image/png": "[encoded data removed]",
      "text/plain": [
       "<Figure size 432x288 with 1 Axes>"
      ]
     },
     "metadata": {},
     "output_type": "display_data"
    }
   ],
   "source": [
    "sns.lineplot(data=pred_df)"
   ]
  },
  {
   "cell_type": "code",
   "execution_count": 116,
   "metadata": {},
   "outputs": [
    {
     "data": {
      "text/plain": [
       "array(['nflx_Adj Close', 'gspc_Adj Close', 'nflx_Volume'], dtype=object)"
      ]
     },
     "execution_count": 116,
     "metadata": {},
     "output_type": "execute_result"
    }
   ],
   "source": [
    "model.steps[2][1].get_feature_names_out(x_train.columns)"
   ]
  },
  {
   "cell_type": "code",
   "execution_count": 72,
   "metadata": {},
   "outputs": [
    {
     "data": {
      "text/plain": [
       "[('t_nflx_shiftTime', shiftTime(rolling=3)),\n",
       " ('Imputer', SimpleImputer()),\n",
       " ('scaling', MinMaxScaler()),\n",
       " ('selectKBest',\n",
       "  SelectKBest(k=2, score_func=<function f_regression at 0x0000016F8AFE2C10>)),\n",
       " ('classifier', LinearRegression())]"
      ]
     },
     "execution_count": 72,
     "metadata": {},
     "output_type": "execute_result"
    }
   ],
   "source": [
    "model.steps"
   ]
  },
  {
   "cell_type": "code",
   "execution_count": null,
   "metadata": {},
   "outputs": [],
   "source": []
  }
 ],
 "metadata": {
  "kernelspec": {
   "display_name": "Python 3.9.7 ('base')",
   "language": "python",
   "name": "python3"
  },
  "language_info": {
   "codemirror_mode": {
    "name": "ipython",
    "version": 3
   },
   "file_extension": ".py",
   "mimetype": "text/x-python",
   "name": "python",
   "nbconvert_exporter": "python",
   "pygments_lexer": "ipython3",
   "version": "3.9.7"
  },
  "orig_nbformat": 4,
  "vscode": {
   "interpreter": {
    "hash": "48f1e5342cf8a6c153dbe25f8f15edc1b1c2836d33c4cf2b2335313fcb64d162"
   }
  }
 },
 "nbformat": 4,
 "nbformat_minor": 2
}
