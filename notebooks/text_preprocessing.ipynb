{
 "cells": [
  {
   "cell_type": "code",
   "execution_count": 3,
   "metadata": {},
   "outputs": [],
   "source": [
    "import pandas as pd\n",
    "import numpy as np\n",
    "import json"
   ]
  },
  {
   "cell_type": "code",
   "execution_count": 13,
   "metadata": {},
   "outputs": [],
   "source": [
    "fp = '../data/news/netflix_stock_news.json'"
   ]
  },
  {
   "cell_type": "code",
   "execution_count": 14,
   "metadata": {},
   "outputs": [],
   "source": [
    "with open(fp) as json_file:\n",
    "    data = json.load(json_file)"
   ]
  },
  {
   "cell_type": "code",
   "execution_count": 34,
   "metadata": {},
   "outputs": [],
   "source": [
    "news_df = pd.read_json(fp)\n",
    "articles_df=pd.DataFrame(news_df.loc['articles'])"
   ]
  },
  {
   "cell_type": "code",
   "execution_count": 41,
   "metadata": {},
   "outputs": [
    {
     "data": {
      "text/plain": [
       "[{'author': 'newsfeedback@fool.com (Parkev Tatevosian)',\n",
       "  'content': \"Netflix(NFLX -1.21%) said that the latest season of Stranger Things surpassed a significant milestone, attracting more than 1.1 billion hours of viewership.\\xa0\\r\\nIt's yet more evidence of Netflix's capa… [+3082 chars]\",\n",
       "  'description': '\"Stranger Things\" has captured over 1 billion hours of consumers\\' attention.',\n",
       "  'publishedAt': '2022-07-10T10:05:00Z',\n",
       "  'source': {'id': None, 'name': 'Motley Fool'},\n",
       "  'title': 'Why Is Everyone Talking About Netflix Stock?',\n",
       "  'url': 'https://www.fool.com/investing/2022/07/10/why-is-everyone-talking-about-netflix-stock/',\n",
       "  'urlToImage': 'https://g.foolcdn.com/editorial/images/688731/couplestreamingcontent.jpg'}]"
      ]
     },
     "execution_count": 41,
     "metadata": {},
     "output_type": "execute_result"
    }
   ],
   "source": [
    "articles_df.iloc[0][0]"
   ]
  },
  {
   "cell_type": "code",
   "execution_count": null,
   "metadata": {},
   "outputs": [],
   "source": []
  }
 ],
 "metadata": {
  "interpreter": {
   "hash": "3dccde306ff19bbc2be532b0f4481ce43cb993410f44c2d3ada687c482b579c8"
  },
  "kernelspec": {
   "display_name": "Python 3.9.7 ('base')",
   "language": "python",
   "name": "python3"
  },
  "language_info": {
   "codemirror_mode": {
    "name": "ipython",
    "version": 3
   },
   "file_extension": ".py",
   "mimetype": "text/x-python",
   "name": "python",
   "nbconvert_exporter": "python",
   "pygments_lexer": "ipython3",
   "version": "3.9.7"
  },
  "orig_nbformat": 4
 },
 "nbformat": 4,
 "nbformat_minor": 2
}
