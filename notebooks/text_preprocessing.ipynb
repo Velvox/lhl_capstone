{
 "cells": [
  {
   "cell_type": "code",
   "execution_count": 21,
   "metadata": {},
   "outputs": [],
   "source": [
    "import pandas as pd\n",
    "import numpy as np\n",
    "import json\n",
    "\n",
    "import functions"
   ]
  },
  {
   "cell_type": "code",
   "execution_count": 22,
   "metadata": {},
   "outputs": [
    {
     "data": {
      "text/html": [
       "<div>\n",
       "<style scoped>\n",
       "    .dataframe tbody tr th:only-of-type {\n",
       "        vertical-align: middle;\n",
       "    }\n",
       "\n",
       "    .dataframe tbody tr th {\n",
       "        vertical-align: top;\n",
       "    }\n",
       "\n",
       "    .dataframe thead th {\n",
       "        text-align: right;\n",
       "    }\n",
       "</style>\n",
       "<table border=\"1\" class=\"dataframe\">\n",
       "  <thead>\n",
       "    <tr style=\"text-align: right;\">\n",
       "      <th></th>\n",
       "      <th>author</th>\n",
       "      <th>content</th>\n",
       "      <th>description</th>\n",
       "      <th>publishedAt</th>\n",
       "      <th>source</th>\n",
       "      <th>title</th>\n",
       "      <th>url</th>\n",
       "      <th>urlToImage</th>\n",
       "    </tr>\n",
       "  </thead>\n",
       "  <tbody>\n",
       "    <tr>\n",
       "      <th>0</th>\n",
       "      <td>newsfeedback@fool.com (Parkev Tatevosian)</td>\n",
       "      <td>Netflix(NFLX -1.21%) said that the latest seas...</td>\n",
       "      <td>\"Stranger Things\" has captured over 1 billion ...</td>\n",
       "      <td>2022-07-10T10:05:00Z</td>\n",
       "      <td>{'id': None, 'name': 'Motley Fool'}</td>\n",
       "      <td>Why Is Everyone Talking About Netflix Stock?</td>\n",
       "      <td>https://www.fool.com/investing/2022/07/10/why-...</td>\n",
       "      <td>https://g.foolcdn.com/editorial/images/688731/...</td>\n",
       "    </tr>\n",
       "    <tr>\n",
       "      <th>1</th>\n",
       "      <td>newsfeedback@fool.com (Demitri Kalogeropoulos)</td>\n",
       "      <td>What happened\\r\\nNetflix(NFLX -4.09%) sharehol...</td>\n",
       "      <td>Investors are bracing for more bad news from t...</td>\n",
       "      <td>2022-07-11T16:20:06Z</td>\n",
       "      <td>{'id': None, 'name': 'Motley Fool'}</td>\n",
       "      <td>Why Netflix Stock Fell 4% Today</td>\n",
       "      <td>https://www.fool.com/investing/2022/07/11/why-...</td>\n",
       "      <td>https://g.foolcdn.com/editorial/images/689459/...</td>\n",
       "    </tr>\n",
       "    <tr>\n",
       "      <th>2</th>\n",
       "      <td>newsfeedback@fool.com (Parkev Tatevosian)</td>\n",
       "      <td>Netflix(NFLX -1.21%) said that the latest seas...</td>\n",
       "      <td>\"Stranger Things\" has captured over 1 billion ...</td>\n",
       "      <td>2022-07-10T10:05:00Z</td>\n",
       "      <td>{'id': None, 'name': 'Motley Fool'}</td>\n",
       "      <td>Why Is Everyone Talking About Netflix Stock?</td>\n",
       "      <td>https://www.fool.com/investing/2022/07/10/why-...</td>\n",
       "      <td>https://g.foolcdn.com/editorial/images/688731/...</td>\n",
       "    </tr>\n",
       "    <tr>\n",
       "      <th>3</th>\n",
       "      <td>newsfeedback@fool.com (Demitri Kalogeropoulos)</td>\n",
       "      <td>What happened\\r\\nNetflix(NFLX -4.09%) sharehol...</td>\n",
       "      <td>Investors are bracing for more bad news from t...</td>\n",
       "      <td>2022-07-11T16:20:06Z</td>\n",
       "      <td>{'id': None, 'name': 'Motley Fool'}</td>\n",
       "      <td>Why Netflix Stock Fell 4% Today</td>\n",
       "      <td>https://www.fool.com/investing/2022/07/11/why-...</td>\n",
       "      <td>https://g.foolcdn.com/editorial/images/689459/...</td>\n",
       "    </tr>\n",
       "    <tr>\n",
       "      <th>4</th>\n",
       "      <td>newsfeedback@fool.com (Anders Bylund)</td>\n",
       "      <td>Media-streaming veteran Netflix(NFLX -1.87%) i...</td>\n",
       "      <td>The digital video maven will report earnings n...</td>\n",
       "      <td>2022-07-12T14:05:22Z</td>\n",
       "      <td>{'id': None, 'name': 'Motley Fool'}</td>\n",
       "      <td>Should You Buy Netflix Stock Before Next Week'...</td>\n",
       "      <td>https://www.fool.com/investing/2022/07/12/shou...</td>\n",
       "      <td>https://g.foolcdn.com/editorial/images/689628/...</td>\n",
       "    </tr>\n",
       "  </tbody>\n",
       "</table>\n",
       "</div>"
      ],
      "text/plain": [
       "                                           author  \\\n",
       "0       newsfeedback@fool.com (Parkev Tatevosian)   \n",
       "1  newsfeedback@fool.com (Demitri Kalogeropoulos)   \n",
       "2       newsfeedback@fool.com (Parkev Tatevosian)   \n",
       "3  newsfeedback@fool.com (Demitri Kalogeropoulos)   \n",
       "4           newsfeedback@fool.com (Anders Bylund)   \n",
       "\n",
       "                                             content  \\\n",
       "0  Netflix(NFLX -1.21%) said that the latest seas...   \n",
       "1  What happened\\r\\nNetflix(NFLX -4.09%) sharehol...   \n",
       "2  Netflix(NFLX -1.21%) said that the latest seas...   \n",
       "3  What happened\\r\\nNetflix(NFLX -4.09%) sharehol...   \n",
       "4  Media-streaming veteran Netflix(NFLX -1.87%) i...   \n",
       "\n",
       "                                         description           publishedAt  \\\n",
       "0  \"Stranger Things\" has captured over 1 billion ...  2022-07-10T10:05:00Z   \n",
       "1  Investors are bracing for more bad news from t...  2022-07-11T16:20:06Z   \n",
       "2  \"Stranger Things\" has captured over 1 billion ...  2022-07-10T10:05:00Z   \n",
       "3  Investors are bracing for more bad news from t...  2022-07-11T16:20:06Z   \n",
       "4  The digital video maven will report earnings n...  2022-07-12T14:05:22Z   \n",
       "\n",
       "                                source  \\\n",
       "0  {'id': None, 'name': 'Motley Fool'}   \n",
       "1  {'id': None, 'name': 'Motley Fool'}   \n",
       "2  {'id': None, 'name': 'Motley Fool'}   \n",
       "3  {'id': None, 'name': 'Motley Fool'}   \n",
       "4  {'id': None, 'name': 'Motley Fool'}   \n",
       "\n",
       "                                               title  \\\n",
       "0       Why Is Everyone Talking About Netflix Stock?   \n",
       "1                    Why Netflix Stock Fell 4% Today   \n",
       "2       Why Is Everyone Talking About Netflix Stock?   \n",
       "3                    Why Netflix Stock Fell 4% Today   \n",
       "4  Should You Buy Netflix Stock Before Next Week'...   \n",
       "\n",
       "                                                 url  \\\n",
       "0  https://www.fool.com/investing/2022/07/10/why-...   \n",
       "1  https://www.fool.com/investing/2022/07/11/why-...   \n",
       "2  https://www.fool.com/investing/2022/07/10/why-...   \n",
       "3  https://www.fool.com/investing/2022/07/11/why-...   \n",
       "4  https://www.fool.com/investing/2022/07/12/shou...   \n",
       "\n",
       "                                          urlToImage  \n",
       "0  https://g.foolcdn.com/editorial/images/688731/...  \n",
       "1  https://g.foolcdn.com/editorial/images/689459/...  \n",
       "2  https://g.foolcdn.com/editorial/images/688731/...  \n",
       "3  https://g.foolcdn.com/editorial/images/689459/...  \n",
       "4  https://g.foolcdn.com/editorial/images/689628/...  "
      ]
     },
     "execution_count": 22,
     "metadata": {},
     "output_type": "execute_result"
    }
   ],
   "source": [
    "# load and unpack\n",
    "\n",
    "fp = '../data/news/raw/netflix_stock_news.json'\n",
    "\n",
    "with open(fp) as json_file:\n",
    "    data = json.load(json_file)\n",
    "    news_df = pd.read_json(fp)\n",
    "articles = functions.newsapiArticleUnpack(news_df)\n",
    "articles.head()"
   ]
  },
  {
   "cell_type": "code",
   "execution_count": 23,
   "metadata": {},
   "outputs": [
    {
     "name": "stdout",
     "output_type": "stream",
     "text": [
      "<class 'pandas.core.frame.DataFrame'>\n",
      "Int64Index: 126 entries, 0 to 125\n",
      "Data columns (total 3 columns):\n",
      " #   Column       Non-Null Count  Dtype \n",
      "---  ------       --------------  ----- \n",
      " 0   title        126 non-null    object\n",
      " 1   description  126 non-null    object\n",
      " 2   content      126 non-null    object\n",
      "dtypes: object(3)\n",
      "memory usage: 3.9+ KB\n"
     ]
    }
   ],
   "source": [
    "# let's just grab the relevant text and date\n",
    "articles_text = articles[['title', 'description', 'content']]\n",
    "articles_text.info()"
   ]
  },
  {
   "cell_type": "code",
   "execution_count": 29,
   "metadata": {},
   "outputs": [],
   "source": [
    "# process text and merge it\n",
    "processed_text = functions.text_preprocessing(articles_text)\n",
    "articles_processed = pd.concat([articles, processed_text], axis=1)"
   ]
  },
  {
   "cell_type": "code",
   "execution_count": 28,
   "metadata": {},
   "outputs": [],
   "source": [
    "# export as txt file for finBERT sentiment classification\n",
    "\n",
    "out_fp = '../data/news/to_classify/'\n",
    "\n",
    "for column in articles_processed[['title_processed','description_processed', 'content_processed']]:\n",
    "    articles_processed[column].to_csv(out_fp+str(column)+'.txt', index=False)"
   ]
  },
  {
   "cell_type": "code",
   "execution_count": null,
   "metadata": {},
   "outputs": [],
   "source": []
  },
  {
   "cell_type": "code",
   "execution_count": null,
   "metadata": {},
   "outputs": [],
   "source": []
  }
 ],
 "metadata": {
  "kernelspec": {
   "display_name": "Python 3.9.7 ('base')",
   "language": "python",
   "name": "python3"
  },
  "language_info": {
   "codemirror_mode": {
    "name": "ipython",
    "version": 3
   },
   "file_extension": ".py",
   "mimetype": "text/x-python",
   "name": "python",
   "nbconvert_exporter": "python",
   "pygments_lexer": "ipython3",
   "version": "3.9.7"
  },
  "orig_nbformat": 4,
  "vscode": {
   "interpreter": {
    "hash": "48f1e5342cf8a6c153dbe25f8f15edc1b1c2836d33c4cf2b2335313fcb64d162"
   }
  }
 },
 "nbformat": 4,
 "nbformat_minor": 2
}
